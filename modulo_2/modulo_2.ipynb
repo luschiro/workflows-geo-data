{
 "cells": [
  {
   "cell_type": "markdown",
   "metadata": {},
   "source": [
    "# Workflows de Análise de Dados e Geoestatística\n",
    "\n",
    "## Módulo 2 - Análise Exploratória e Visualização de Dados com Python\n",
    "\n",
    "O objetivo deste módulo e apresentar conceitos e funções iniciais da análise exploratória de dados (ou **EDA** - *exploratory data analysis*), utilizando a linguagem Python.\n",
    "\n",
    "A idéia é apresentar o básico de bibliotecas voltadas a dados e utilizá-las para conhencermos os dados que estamos trabalhando."
   ]
  },
  {
   "cell_type": "markdown",
   "metadata": {},
   "source": [
    "### Imports"
   ]
  },
  {
   "cell_type": "code",
   "execution_count": 3,
   "metadata": {},
   "outputs": [],
   "source": [
    "# paths\n",
    "import os\n",
    "\n",
    "# pandas\n",
    "import pandas as pd\n",
    "\n",
    "# data viz\n",
    "import plotly\n",
    "import plotly.express as px\n",
    "import seaborn as sns\n",
    "import matplotlib.pyplot as plt"
   ]
  },
  {
   "cell_type": "markdown",
   "metadata": {},
   "source": [
    "### Helper Functions"
   ]
  },
  {
   "cell_type": "markdown",
   "metadata": {},
   "source": []
  }
 ],
 "metadata": {
  "kernelspec": {
   "display_name": "env_spatial",
   "language": "python",
   "name": "python3"
  },
  "language_info": {
   "codemirror_mode": {
    "name": "ipython",
    "version": 3
   },
   "file_extension": ".py",
   "mimetype": "text/x-python",
   "name": "python",
   "nbconvert_exporter": "python",
   "pygments_lexer": "ipython3",
   "version": "3.10.4"
  },
  "orig_nbformat": 4
 },
 "nbformat": 4,
 "nbformat_minor": 2
}
