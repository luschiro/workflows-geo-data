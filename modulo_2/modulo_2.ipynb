{
 "cells": [
  {
   "cell_type": "markdown",
   "metadata": {},
   "source": [
    "# Workflows de Análise de Dados e Geoestatística\n",
    "\n",
    "## Módulo 2 - Análise Exploratória e Visualização de Dados com Python\n",
    "\n",
    "O objetivo deste módulo e apresentar conceitos e funções iniciais da análise exploratória de dados (ou **EDA** - *exploratory data analysis*), utilizando a linguagem Python.\n",
    "\n",
    "A idéia é apresentar o básico de bibliotecas voltadas a dados e utilizá-las para conhencermos os dados que estamos trabalhando."
   ]
  },
  {
   "cell_type": "markdown",
   "metadata": {},
   "source": [
    "### Imports"
   ]
  },
  {
   "cell_type": "code",
   "execution_count": 2,
   "metadata": {},
   "outputs": [],
   "source": [
    "# paths\n",
    "import os\n",
    "\n",
    "# pandas\n",
    "import pandas as pd\n",
    "\n",
    "# data viz\n",
    "import plotly\n",
    "import plotly.express as px\n",
    "import seaborn as sns\n",
    "import matplotlib.pyplot as plt"
   ]
  },
  {
   "cell_type": "code",
   "execution_count": 3,
   "metadata": {},
   "outputs": [],
   "source": [
    "# configuring plots of seaborn\n",
    "\n",
    "sns.set_style(\"white\", {'axes.grid':False}, )"
   ]
  },
  {
   "cell_type": "markdown",
   "metadata": {},
   "source": [
    "### Helper Functions"
   ]
  },
  {
   "cell_type": "code",
   "execution_count": 4,
   "metadata": {},
   "outputs": [],
   "source": [
    "# directories\n",
    "def get_directories():\n",
    "    # getting working paths\n",
    "    CURRENT_DIR = os.path.dirname(os.path.realpath('__file__'))\n",
    "    PARENT_DIR = os.path.dirname(CURRENT_DIR)\n",
    "    #QUERY_DIR = os.path.join(CURRENT_DIR, 'queries')\n",
    "    DATA_DIR = os.path.join(PARENT_DIR, 'data')\n",
    "    \n",
    "    dirs = {\n",
    "        \"CURRENT_DIR\" : CURRENT_DIR,\n",
    "        \"PARENT_DIR\" : PARENT_DIR,\n",
    "        #\"QUERY_DIR\" : QUERY_DIR,\n",
    "        \"DATA_DIR\" : DATA_DIR\n",
    "    }\n",
    "\n",
    "    return (dirs)\n",
    "\n",
    "\n",
    "# metadados sobre dataframe\n",
    "def meta_df(df):\n",
    "    return pd.DataFrame({'dtypes': df.dtypes,\n",
    "                         'nmissing': df.isna().sum(),\n",
    "                         'missing%': round(df.isna().sum()/df.shape[0]*100, 2),\n",
    "                         'nunique': df.nunique(),\n",
    "                         'nunique%': round(df.nunique()/df.shape[0]*100, 2),\n",
    "                         'size': df.shape[0]}, index = df.columns)"
   ]
  },
  {
   "cell_type": "code",
   "execution_count": 5,
   "metadata": {},
   "outputs": [
    {
     "data": {
      "text/plain": [
       "{'CURRENT_DIR': 'C:\\\\Users\\\\lucas\\\\Documents\\\\code\\\\workflows-geoestatistica-data\\\\modulo_2',\n",
       " 'PARENT_DIR': 'C:\\\\Users\\\\lucas\\\\Documents\\\\code\\\\workflows-geoestatistica-data',\n",
       " 'DATA_DIR': 'C:\\\\Users\\\\lucas\\\\Documents\\\\code\\\\workflows-geoestatistica-data\\\\data'}"
      ]
     },
     "execution_count": 5,
     "metadata": {},
     "output_type": "execute_result"
    }
   ],
   "source": [
    "get_directories()"
   ]
  },
  {
   "cell_type": "code",
   "execution_count": 6,
   "metadata": {},
   "outputs": [
    {
     "data": {
      "text/html": [
       "<div>\n",
       "<style scoped>\n",
       "    .dataframe tbody tr th:only-of-type {\n",
       "        vertical-align: middle;\n",
       "    }\n",
       "\n",
       "    .dataframe tbody tr th {\n",
       "        vertical-align: top;\n",
       "    }\n",
       "\n",
       "    .dataframe thead th {\n",
       "        text-align: right;\n",
       "    }\n",
       "</style>\n",
       "<table border=\"1\" class=\"dataframe\">\n",
       "  <thead>\n",
       "    <tr style=\"text-align: right;\">\n",
       "      <th></th>\n",
       "      <th>vlLocX</th>\n",
       "      <th>vlLocY</th>\n",
       "      <th>descLanduse</th>\n",
       "      <th>descUnit</th>\n",
       "      <th>vlCadmium</th>\n",
       "      <th>vlCobalt</th>\n",
       "      <th>vlChromium</th>\n",
       "      <th>vlNickel</th>\n",
       "      <th>vlLead</th>\n",
       "      <th>vlZinc</th>\n",
       "      <th>status</th>\n",
       "      <th>rankCadmium</th>\n",
       "      <th>rankCobalt</th>\n",
       "      <th>rankChromium</th>\n",
       "      <th>rankNickel</th>\n",
       "      <th>rankPb</th>\n",
       "      <th>rankZn</th>\n",
       "      <th>descAnomalyZn</th>\n",
       "    </tr>\n",
       "  </thead>\n",
       "  <tbody>\n",
       "    <tr>\n",
       "      <th>0</th>\n",
       "      <td>1.932</td>\n",
       "      <td>1.004</td>\n",
       "      <td>campo</td>\n",
       "      <td>argoviano</td>\n",
       "      <td>0.135</td>\n",
       "      <td>4.520</td>\n",
       "      <td>15.08</td>\n",
       "      <td>5.24</td>\n",
       "      <td>37.00</td>\n",
       "      <td>32.56</td>\n",
       "      <td>NaN</td>\n",
       "      <td>0.00</td>\n",
       "      <td>0.14</td>\n",
       "      <td>0.02</td>\n",
       "      <td>0.03</td>\n",
       "      <td>0.28</td>\n",
       "      <td>0.04</td>\n",
       "      <td>normal</td>\n",
       "    </tr>\n",
       "    <tr>\n",
       "      <th>1</th>\n",
       "      <td>1.824</td>\n",
       "      <td>0.999</td>\n",
       "      <td>campo</td>\n",
       "      <td>argoviano</td>\n",
       "      <td>0.165</td>\n",
       "      <td>3.752</td>\n",
       "      <td>18.60</td>\n",
       "      <td>7.08</td>\n",
       "      <td>56.40</td>\n",
       "      <td>44.00</td>\n",
       "      <td>NaN</td>\n",
       "      <td>0.00</td>\n",
       "      <td>0.07</td>\n",
       "      <td>0.06</td>\n",
       "      <td>0.07</td>\n",
       "      <td>0.68</td>\n",
       "      <td>0.12</td>\n",
       "      <td>normal</td>\n",
       "    </tr>\n",
       "    <tr>\n",
       "      <th>2</th>\n",
       "      <td>1.883</td>\n",
       "      <td>1.176</td>\n",
       "      <td>campo</td>\n",
       "      <td>argoviano</td>\n",
       "      <td>0.195</td>\n",
       "      <td>3.920</td>\n",
       "      <td>21.80</td>\n",
       "      <td>7.52</td>\n",
       "      <td>49.60</td>\n",
       "      <td>43.20</td>\n",
       "      <td>NaN</td>\n",
       "      <td>0.01</td>\n",
       "      <td>0.10</td>\n",
       "      <td>0.12</td>\n",
       "      <td>0.10</td>\n",
       "      <td>0.56</td>\n",
       "      <td>0.10</td>\n",
       "      <td>normal</td>\n",
       "    </tr>\n",
       "    <tr>\n",
       "      <th>3</th>\n",
       "      <td>1.837</td>\n",
       "      <td>1.037</td>\n",
       "      <td>campo</td>\n",
       "      <td>argoviano</td>\n",
       "      <td>0.215</td>\n",
       "      <td>3.880</td>\n",
       "      <td>23.00</td>\n",
       "      <td>8.16</td>\n",
       "      <td>46.80</td>\n",
       "      <td>44.00</td>\n",
       "      <td>NaN</td>\n",
       "      <td>0.01</td>\n",
       "      <td>0.09</td>\n",
       "      <td>0.14</td>\n",
       "      <td>0.11</td>\n",
       "      <td>0.51</td>\n",
       "      <td>0.12</td>\n",
       "      <td>normal</td>\n",
       "    </tr>\n",
       "    <tr>\n",
       "      <th>4</th>\n",
       "      <td>3.768</td>\n",
       "      <td>2.775</td>\n",
       "      <td>floresta</td>\n",
       "      <td>kimmeridgiano</td>\n",
       "      <td>0.220</td>\n",
       "      <td>10.800</td>\n",
       "      <td>26.32</td>\n",
       "      <td>17.52</td>\n",
       "      <td>31.88</td>\n",
       "      <td>45.20</td>\n",
       "      <td>NaN</td>\n",
       "      <td>0.02</td>\n",
       "      <td>0.60</td>\n",
       "      <td>0.20</td>\n",
       "      <td>0.37</td>\n",
       "      <td>0.11</td>\n",
       "      <td>0.14</td>\n",
       "      <td>normal</td>\n",
       "    </tr>\n",
       "    <tr>\n",
       "      <th>5</th>\n",
       "      <td>1.839</td>\n",
       "      <td>0.995</td>\n",
       "      <td>campo</td>\n",
       "      <td>argoviano</td>\n",
       "      <td>0.225</td>\n",
       "      <td>4.240</td>\n",
       "      <td>24.88</td>\n",
       "      <td>10.12</td>\n",
       "      <td>55.60</td>\n",
       "      <td>56.00</td>\n",
       "      <td>NaN</td>\n",
       "      <td>0.02</td>\n",
       "      <td>0.12</td>\n",
       "      <td>0.17</td>\n",
       "      <td>0.16</td>\n",
       "      <td>0.68</td>\n",
       "      <td>0.26</td>\n",
       "      <td>normal</td>\n",
       "    </tr>\n",
       "    <tr>\n",
       "      <th>6</th>\n",
       "      <td>2.537</td>\n",
       "      <td>3.768</td>\n",
       "      <td>campo</td>\n",
       "      <td>argoviano</td>\n",
       "      <td>0.230</td>\n",
       "      <td>3.792</td>\n",
       "      <td>18.20</td>\n",
       "      <td>5.68</td>\n",
       "      <td>26.84</td>\n",
       "      <td>32.08</td>\n",
       "      <td>NaN</td>\n",
       "      <td>0.02</td>\n",
       "      <td>0.08</td>\n",
       "      <td>0.04</td>\n",
       "      <td>0.05</td>\n",
       "      <td>0.04</td>\n",
       "      <td>0.03</td>\n",
       "      <td>normal</td>\n",
       "    </tr>\n",
       "    <tr>\n",
       "      <th>7</th>\n",
       "      <td>2.502</td>\n",
       "      <td>3.988</td>\n",
       "      <td>campo</td>\n",
       "      <td>argoviano</td>\n",
       "      <td>0.240</td>\n",
       "      <td>3.760</td>\n",
       "      <td>18.92</td>\n",
       "      <td>5.20</td>\n",
       "      <td>22.36</td>\n",
       "      <td>32.24</td>\n",
       "      <td>NaN</td>\n",
       "      <td>0.03</td>\n",
       "      <td>0.08</td>\n",
       "      <td>0.06</td>\n",
       "      <td>0.03</td>\n",
       "      <td>0.02</td>\n",
       "      <td>0.04</td>\n",
       "      <td>normal</td>\n",
       "    </tr>\n",
       "    <tr>\n",
       "      <th>8</th>\n",
       "      <td>1.842</td>\n",
       "      <td>0.989</td>\n",
       "      <td>campo</td>\n",
       "      <td>argoviano</td>\n",
       "      <td>0.240</td>\n",
       "      <td>4.520</td>\n",
       "      <td>27.96</td>\n",
       "      <td>11.32</td>\n",
       "      <td>52.40</td>\n",
       "      <td>56.40</td>\n",
       "      <td>NaN</td>\n",
       "      <td>0.03</td>\n",
       "      <td>0.14</td>\n",
       "      <td>0.26</td>\n",
       "      <td>0.20</td>\n",
       "      <td>0.62</td>\n",
       "      <td>0.26</td>\n",
       "      <td>normal</td>\n",
       "    </tr>\n",
       "    <tr>\n",
       "      <th>9</th>\n",
       "      <td>1.897</td>\n",
       "      <td>1.220</td>\n",
       "      <td>campo</td>\n",
       "      <td>argoviano</td>\n",
       "      <td>0.260</td>\n",
       "      <td>3.480</td>\n",
       "      <td>16.24</td>\n",
       "      <td>4.76</td>\n",
       "      <td>27.00</td>\n",
       "      <td>27.20</td>\n",
       "      <td>NaN</td>\n",
       "      <td>0.04</td>\n",
       "      <td>0.04</td>\n",
       "      <td>0.03</td>\n",
       "      <td>0.01</td>\n",
       "      <td>0.05</td>\n",
       "      <td>0.01</td>\n",
       "      <td>normal</td>\n",
       "    </tr>\n",
       "  </tbody>\n",
       "</table>\n",
       "</div>"
      ],
      "text/plain": [
       "   vlLocX  vlLocY descLanduse       descUnit  vlCadmium  vlCobalt  vlChromium  \\\n",
       "0   1.932   1.004       campo      argoviano      0.135     4.520       15.08   \n",
       "1   1.824   0.999       campo      argoviano      0.165     3.752       18.60   \n",
       "2   1.883   1.176       campo      argoviano      0.195     3.920       21.80   \n",
       "3   1.837   1.037       campo      argoviano      0.215     3.880       23.00   \n",
       "4   3.768   2.775    floresta  kimmeridgiano      0.220    10.800       26.32   \n",
       "5   1.839   0.995       campo      argoviano      0.225     4.240       24.88   \n",
       "6   2.537   3.768       campo      argoviano      0.230     3.792       18.20   \n",
       "7   2.502   3.988       campo      argoviano      0.240     3.760       18.92   \n",
       "8   1.842   0.989       campo      argoviano      0.240     4.520       27.96   \n",
       "9   1.897   1.220       campo      argoviano      0.260     3.480       16.24   \n",
       "\n",
       "   vlNickel  vlLead  vlZinc status  rankCadmium  rankCobalt  rankChromium  \\\n",
       "0      5.24   37.00   32.56    NaN         0.00        0.14          0.02   \n",
       "1      7.08   56.40   44.00    NaN         0.00        0.07          0.06   \n",
       "2      7.52   49.60   43.20    NaN         0.01        0.10          0.12   \n",
       "3      8.16   46.80   44.00    NaN         0.01        0.09          0.14   \n",
       "4     17.52   31.88   45.20    NaN         0.02        0.60          0.20   \n",
       "5     10.12   55.60   56.00    NaN         0.02        0.12          0.17   \n",
       "6      5.68   26.84   32.08    NaN         0.02        0.08          0.04   \n",
       "7      5.20   22.36   32.24    NaN         0.03        0.08          0.06   \n",
       "8     11.32   52.40   56.40    NaN         0.03        0.14          0.26   \n",
       "9      4.76   27.00   27.20    NaN         0.04        0.04          0.03   \n",
       "\n",
       "   rankNickel  rankPb  rankZn descAnomalyZn  \n",
       "0        0.03    0.28    0.04        normal  \n",
       "1        0.07    0.68    0.12        normal  \n",
       "2        0.10    0.56    0.10        normal  \n",
       "3        0.11    0.51    0.12        normal  \n",
       "4        0.37    0.11    0.14        normal  \n",
       "5        0.16    0.68    0.26        normal  \n",
       "6        0.05    0.04    0.03        normal  \n",
       "7        0.03    0.02    0.04        normal  \n",
       "8        0.20    0.62    0.26        normal  \n",
       "9        0.01    0.05    0.01        normal  "
      ]
     },
     "execution_count": 6,
     "metadata": {},
     "output_type": "execute_result"
    }
   ],
   "source": [
    "# importing data\n",
    "\n",
    "data_dirs = get_directories()\n",
    "df_jura = pd.read_csv(os.path.join(data_dirs[\"DATA_DIR\"],\"silver_jura.csv\"))\n",
    "df_jura.head(10)"
   ]
  },
  {
   "cell_type": "code",
   "execution_count": 7,
   "metadata": {},
   "outputs": [
    {
     "data": {
      "text/html": [
       "<div>\n",
       "<style scoped>\n",
       "    .dataframe tbody tr th:only-of-type {\n",
       "        vertical-align: middle;\n",
       "    }\n",
       "\n",
       "    .dataframe tbody tr th {\n",
       "        vertical-align: top;\n",
       "    }\n",
       "\n",
       "    .dataframe thead th {\n",
       "        text-align: right;\n",
       "    }\n",
       "</style>\n",
       "<table border=\"1\" class=\"dataframe\">\n",
       "  <thead>\n",
       "    <tr style=\"text-align: right;\">\n",
       "      <th></th>\n",
       "      <th>dtypes</th>\n",
       "      <th>nmissing</th>\n",
       "      <th>missing%</th>\n",
       "      <th>nunique</th>\n",
       "      <th>nunique%</th>\n",
       "      <th>size</th>\n",
       "    </tr>\n",
       "  </thead>\n",
       "  <tbody>\n",
       "    <tr>\n",
       "      <th>vlLocX</th>\n",
       "      <td>float64</td>\n",
       "      <td>0</td>\n",
       "      <td>0.00</td>\n",
       "      <td>238</td>\n",
       "      <td>94.82</td>\n",
       "      <td>251</td>\n",
       "    </tr>\n",
       "    <tr>\n",
       "      <th>vlLocY</th>\n",
       "      <td>float64</td>\n",
       "      <td>0</td>\n",
       "      <td>0.00</td>\n",
       "      <td>241</td>\n",
       "      <td>96.02</td>\n",
       "      <td>251</td>\n",
       "    </tr>\n",
       "    <tr>\n",
       "      <th>descLanduse</th>\n",
       "      <td>object</td>\n",
       "      <td>0</td>\n",
       "      <td>0.00</td>\n",
       "      <td>4</td>\n",
       "      <td>1.59</td>\n",
       "      <td>251</td>\n",
       "    </tr>\n",
       "    <tr>\n",
       "      <th>descUnit</th>\n",
       "      <td>object</td>\n",
       "      <td>0</td>\n",
       "      <td>0.00</td>\n",
       "      <td>5</td>\n",
       "      <td>1.99</td>\n",
       "      <td>251</td>\n",
       "    </tr>\n",
       "    <tr>\n",
       "      <th>vlCadmium</th>\n",
       "      <td>float64</td>\n",
       "      <td>0</td>\n",
       "      <td>0.00</td>\n",
       "      <td>209</td>\n",
       "      <td>83.27</td>\n",
       "      <td>251</td>\n",
       "    </tr>\n",
       "    <tr>\n",
       "      <th>vlCobalt</th>\n",
       "      <td>float64</td>\n",
       "      <td>0</td>\n",
       "      <td>0.00</td>\n",
       "      <td>172</td>\n",
       "      <td>68.53</td>\n",
       "      <td>251</td>\n",
       "    </tr>\n",
       "    <tr>\n",
       "      <th>vlChromium</th>\n",
       "      <td>float64</td>\n",
       "      <td>0</td>\n",
       "      <td>0.00</td>\n",
       "      <td>198</td>\n",
       "      <td>78.88</td>\n",
       "      <td>251</td>\n",
       "    </tr>\n",
       "    <tr>\n",
       "      <th>vlNickel</th>\n",
       "      <td>float64</td>\n",
       "      <td>0</td>\n",
       "      <td>0.00</td>\n",
       "      <td>213</td>\n",
       "      <td>84.86</td>\n",
       "      <td>251</td>\n",
       "    </tr>\n",
       "    <tr>\n",
       "      <th>vlLead</th>\n",
       "      <td>float64</td>\n",
       "      <td>0</td>\n",
       "      <td>0.00</td>\n",
       "      <td>192</td>\n",
       "      <td>76.49</td>\n",
       "      <td>251</td>\n",
       "    </tr>\n",
       "    <tr>\n",
       "      <th>vlZinc</th>\n",
       "      <td>float64</td>\n",
       "      <td>0</td>\n",
       "      <td>0.00</td>\n",
       "      <td>183</td>\n",
       "      <td>72.91</td>\n",
       "      <td>251</td>\n",
       "    </tr>\n",
       "    <tr>\n",
       "      <th>status</th>\n",
       "      <td>object</td>\n",
       "      <td>247</td>\n",
       "      <td>98.41</td>\n",
       "      <td>1</td>\n",
       "      <td>0.40</td>\n",
       "      <td>251</td>\n",
       "    </tr>\n",
       "    <tr>\n",
       "      <th>rankCadmium</th>\n",
       "      <td>float64</td>\n",
       "      <td>0</td>\n",
       "      <td>0.00</td>\n",
       "      <td>99</td>\n",
       "      <td>39.44</td>\n",
       "      <td>251</td>\n",
       "    </tr>\n",
       "    <tr>\n",
       "      <th>rankCobalt</th>\n",
       "      <td>float64</td>\n",
       "      <td>0</td>\n",
       "      <td>0.00</td>\n",
       "      <td>95</td>\n",
       "      <td>37.85</td>\n",
       "      <td>251</td>\n",
       "    </tr>\n",
       "    <tr>\n",
       "      <th>rankChromium</th>\n",
       "      <td>float64</td>\n",
       "      <td>0</td>\n",
       "      <td>0.00</td>\n",
       "      <td>99</td>\n",
       "      <td>39.44</td>\n",
       "      <td>251</td>\n",
       "    </tr>\n",
       "    <tr>\n",
       "      <th>rankNickel</th>\n",
       "      <td>float64</td>\n",
       "      <td>0</td>\n",
       "      <td>0.00</td>\n",
       "      <td>101</td>\n",
       "      <td>40.24</td>\n",
       "      <td>251</td>\n",
       "    </tr>\n",
       "    <tr>\n",
       "      <th>rankPb</th>\n",
       "      <td>float64</td>\n",
       "      <td>0</td>\n",
       "      <td>0.00</td>\n",
       "      <td>97</td>\n",
       "      <td>38.65</td>\n",
       "      <td>251</td>\n",
       "    </tr>\n",
       "    <tr>\n",
       "      <th>rankZn</th>\n",
       "      <td>float64</td>\n",
       "      <td>0</td>\n",
       "      <td>0.00</td>\n",
       "      <td>95</td>\n",
       "      <td>37.85</td>\n",
       "      <td>251</td>\n",
       "    </tr>\n",
       "    <tr>\n",
       "      <th>descAnomalyZn</th>\n",
       "      <td>object</td>\n",
       "      <td>0</td>\n",
       "      <td>0.00</td>\n",
       "      <td>2</td>\n",
       "      <td>0.80</td>\n",
       "      <td>251</td>\n",
       "    </tr>\n",
       "  </tbody>\n",
       "</table>\n",
       "</div>"
      ],
      "text/plain": [
       "                dtypes  nmissing  missing%  nunique  nunique%  size\n",
       "vlLocX         float64         0      0.00      238     94.82   251\n",
       "vlLocY         float64         0      0.00      241     96.02   251\n",
       "descLanduse     object         0      0.00        4      1.59   251\n",
       "descUnit        object         0      0.00        5      1.99   251\n",
       "vlCadmium      float64         0      0.00      209     83.27   251\n",
       "vlCobalt       float64         0      0.00      172     68.53   251\n",
       "vlChromium     float64         0      0.00      198     78.88   251\n",
       "vlNickel       float64         0      0.00      213     84.86   251\n",
       "vlLead         float64         0      0.00      192     76.49   251\n",
       "vlZinc         float64         0      0.00      183     72.91   251\n",
       "status          object       247     98.41        1      0.40   251\n",
       "rankCadmium    float64         0      0.00       99     39.44   251\n",
       "rankCobalt     float64         0      0.00       95     37.85   251\n",
       "rankChromium   float64         0      0.00       99     39.44   251\n",
       "rankNickel     float64         0      0.00      101     40.24   251\n",
       "rankPb         float64         0      0.00       97     38.65   251\n",
       "rankZn         float64         0      0.00       95     37.85   251\n",
       "descAnomalyZn   object         0      0.00        2      0.80   251"
      ]
     },
     "execution_count": 7,
     "metadata": {},
     "output_type": "execute_result"
    }
   ],
   "source": [
    "meta_df(df_jura)"
   ]
  },
  {
   "cell_type": "markdown",
   "metadata": {},
   "source": [
    "### Visualização de Dados (*Data Vizualization - dataviz*)"
   ]
  },
  {
   "cell_type": "code",
   "execution_count": 8,
   "metadata": {},
   "outputs": [
    {
     "data": {
      "application/vnd.plotly.v1+json": {
       "config": {
        "plotlyServerURL": "https://plot.ly"
       },
       "data": [
        {
         "hovertemplate": "color=argoviano<br>x=%{x}<br>y=%{y}<extra></extra>",
         "legendgroup": "argoviano",
         "marker": {
          "color": "#636efa",
          "symbol": "circle"
         },
         "mode": "markers",
         "name": "argoviano",
         "orientation": "v",
         "showlegend": true,
         "type": "scatter",
         "x": [
          0.135,
          0.165,
          0.195,
          0.215,
          0.225,
          0.23,
          0.24,
          0.24,
          0.26,
          0.275,
          0.32,
          0.325,
          0.35,
          0.357,
          0.45,
          0.465,
          0.49,
          0.505,
          0.515,
          0.515,
          0.525,
          0.54,
          0.56,
          0.57,
          0.58,
          0.605,
          0.62,
          0.625,
          0.63,
          0.645,
          0.655,
          0.69,
          0.74,
          0.81,
          0.885,
          1.13,
          1.245,
          1.455,
          1.685,
          1.82,
          1.835,
          2.26,
          2.55,
          2.7,
          3.421,
          3.873,
          4.191,
          4.227,
          4.495,
          5.129
         ],
         "xaxis": "x",
         "y": [
          32.56,
          44,
          43.2,
          44,
          56,
          32.08,
          32.24,
          56.4,
          27.2,
          37.88,
          39.88,
          35.08,
          37.16,
          46.8,
          39.4,
          44.4,
          56.8,
          54.4,
          43.2,
          50.4,
          49.6,
          53.2,
          57.2,
          47.6,
          50.4,
          54,
          46.8,
          31.32,
          36.64,
          42.4,
          51.24,
          45.6,
          62.4,
          42,
          46.8,
          32.84,
          71.2,
          39.6,
          84.32,
          39.8,
          97.48,
          77.6,
          96.96,
          99.6,
          134.4,
          143.2,
          145.6,
          136.8,
          101.68,
          135.6
         ],
         "yaxis": "y"
        },
        {
         "hovertemplate": "color=kimmeridgiano<br>x=%{x}<br>y=%{y}<extra></extra>",
         "legendgroup": "kimmeridgiano",
         "marker": {
          "color": "#EF553B",
          "symbol": "circle"
         },
         "mode": "markers",
         "name": "kimmeridgiano",
         "orientation": "v",
         "showlegend": true,
         "type": "scatter",
         "x": [
          0.22,
          0.285,
          0.375,
          0.44,
          0.485,
          0.525,
          0.555,
          0.62,
          0.625,
          0.65,
          0.69,
          0.72,
          0.733,
          0.735,
          0.75,
          0.765,
          0.77,
          0.775,
          0.785,
          0.805,
          0.81,
          0.83,
          0.844,
          0.845,
          0.86,
          0.875,
          0.93,
          0.95,
          0.951,
          0.96,
          0.99,
          0.995,
          1.025,
          1.06,
          1.095,
          1.11,
          1.11,
          1.145,
          1.205,
          1.285,
          1.3,
          1.305,
          1.335,
          1.36,
          1.38,
          1.38,
          1.384,
          1.385,
          1.4,
          1.445,
          1.535,
          1.535,
          1.555,
          1.56,
          1.563,
          1.57,
          1.575,
          1.61,
          1.63,
          1.66,
          1.71,
          1.74,
          1.785,
          1.79,
          1.819,
          1.835,
          1.875,
          1.885,
          1.898,
          1.93,
          1.96,
          1.985,
          2.04,
          2.08,
          2.115,
          2.12,
          2.15,
          2.23,
          2.234,
          2.505,
          2.828,
          3.925,
          4.18
         ],
         "xaxis": "x",
         "y": [
          45.2,
          76,
          46.4,
          54.8,
          57.96,
          91.48,
          64.8,
          78,
          43.6,
          74,
          66.4,
          63.2,
          74,
          79.04,
          80.8,
          90.8,
          62.28,
          70.8,
          60.8,
          61.6,
          58.8,
          84.4,
          90,
          79.6,
          63.6,
          76.4,
          56.4,
          74,
          70.8,
          64.8,
          65.6,
          54,
          47.6,
          80.8,
          56.8,
          79,
          71.12,
          74.4,
          85.52,
          65.2,
          71.76,
          77.6,
          73.56,
          28.88,
          55.2,
          71.6,
          46.8,
          49.2,
          70.8,
          104.4,
          52.4,
          85.6,
          77.56,
          94,
          104,
          81.6,
          90.68,
          31.16,
          77.4,
          123.32,
          106.36,
          73.6,
          58,
          80.32,
          82.4,
          90,
          65.2,
          120.28,
          86,
          166.28,
          123.84,
          89.84,
          107.2,
          110.8,
          133.88,
          64.8,
          90,
          96.6,
          64,
          78.4,
          132.8,
          92.36,
          81.72
         ],
         "yaxis": "y"
        },
        {
         "hovertemplate": "color=quaternario<br>x=%{x}<br>y=%{y}<extra></extra>",
         "legendgroup": "quaternario",
         "marker": {
          "color": "#00cc96",
          "symbol": "circle"
         },
         "mode": "markers",
         "name": "quaternario",
         "orientation": "v",
         "showlegend": true,
         "type": "scatter",
         "x": [
          0.275,
          0.3,
          0.305,
          0.325,
          0.36,
          0.37,
          0.4,
          0.425,
          0.425,
          0.455,
          0.495,
          0.535,
          0.55,
          0.552,
          0.56,
          0.56,
          0.74,
          0.82,
          0.855,
          0.86,
          0.86,
          0.894,
          0.945,
          0.95,
          0.975,
          0.98,
          1.06,
          1.07,
          1.145,
          1.255,
          1.34,
          1.385,
          1.385,
          1.39,
          1.435,
          1.445,
          1.525,
          1.53,
          1.565,
          1.568,
          1.585,
          1.605,
          1.71,
          1.72,
          1.77,
          1.84,
          1.895,
          1.9,
          1.98,
          2.15,
          2.423,
          2.96
         ],
         "xaxis": "x",
         "y": [
          33.44,
          27.12,
          44.8,
          40.8,
          28.92,
          47.2,
          25.2,
          61.6,
          31.48,
          37.88,
          50.4,
          32.92,
          76,
          79.2,
          49.2,
          57.2,
          83.2,
          67.6,
          59.6,
          58.8,
          61.6,
          72.4,
          104.36,
          61.2,
          83.2,
          72.8,
          78.4,
          70.8,
          75.2,
          101.6,
          81.2,
          94.8,
          123,
          135.88,
          110.32,
          75.6,
          87.6,
          80.8,
          88.4,
          71.6,
          114.28,
          75.2,
          125.4,
          75.6,
          89.2,
          86,
          141.6,
          83.6,
          108,
          120.8,
          84,
          148.4
         ],
         "yaxis": "y"
        },
        {
         "hovertemplate": "color=sequaniano<br>x=%{x}<br>y=%{y}<extra></extra>",
         "legendgroup": "sequaniano",
         "marker": {
          "color": "#ab63fa",
          "symbol": "circle"
         },
         "mode": "markers",
         "name": "sequaniano",
         "orientation": "v",
         "showlegend": true,
         "type": "scatter",
         "x": [
          0.28,
          0.32,
          0.4,
          0.575,
          0.585,
          0.605,
          0.61,
          0.625,
          0.63,
          0.685,
          0.685,
          0.705,
          0.705,
          0.725,
          0.765,
          0.795,
          0.8,
          0.84,
          0.849,
          0.89,
          0.895,
          0.9,
          0.905,
          0.91,
          0.93,
          0.99,
          1.003,
          1.015,
          1.05,
          1.12,
          1.165,
          1.215,
          1.22,
          1.24,
          1.26,
          1.27,
          1.39,
          1.48,
          1.51,
          1.58,
          1.61,
          1.655,
          1.74,
          1.775,
          1.91,
          1.915,
          1.916,
          1.917,
          1.97,
          2.055,
          2.055,
          2.08,
          2.17,
          2.535,
          2.58,
          2.818,
          3.149,
          3.53,
          3.68,
          3.805,
          3.81,
          3.995,
          4.02
         ],
         "xaxis": "x",
         "y": [
          46.4,
          43.72,
          44,
          66.92,
          76.8,
          67.16,
          51.24,
          75.6,
          80.76,
          53.6,
          76,
          59.88,
          96.6,
          56.72,
          86.2,
          65.6,
          100.4,
          58.8,
          58,
          66,
          102.44,
          94.8,
          78.4,
          75.2,
          69.2,
          60.12,
          110,
          70.4,
          48.4,
          83.2,
          59.6,
          64,
          90,
          83.2,
          62.8,
          65.2,
          149.2,
          140.4,
          80.4,
          86,
          64.8,
          81.6,
          92.56,
          91.6,
          50.4,
          90.24,
          90.8,
          59.6,
          99.2,
          59.36,
          108,
          79.6,
          74.4,
          126.8,
          106.4,
          80.8,
          98,
          124.8,
          89.6,
          219.32,
          102,
          118.24,
          101.6
         ],
         "yaxis": "y"
        },
        {
         "hovertemplate": "color=portlandiano<br>x=%{x}<br>y=%{y}<extra></extra>",
         "legendgroup": "portlandiano",
         "marker": {
          "color": "#FFA15A",
          "symbol": "circle"
         },
         "mode": "markers",
         "name": "portlandiano",
         "orientation": "v",
         "showlegend": true,
         "type": "scatter",
         "x": [
          1.1,
          1.645,
          2.805
         ],
         "xaxis": "x",
         "y": [
          44,
          90.4,
          65.6
         ],
         "yaxis": "y"
        }
       ],
       "layout": {
        "font": {
         "family": "Calibri"
        },
        "height": 500,
        "legend": {
         "title": {
          "text": "color"
         },
         "tracegroupgap": 0
        },
        "margin": {
         "b": 20,
         "r": 20
        },
        "template": {
         "data": {
          "bar": [
           {
            "error_x": {
             "color": "rgb(36,36,36)"
            },
            "error_y": {
             "color": "rgb(36,36,36)"
            },
            "marker": {
             "line": {
              "color": "white",
              "width": 0.5
             },
             "pattern": {
              "fillmode": "overlay",
              "size": 10,
              "solidity": 0.2
             }
            },
            "type": "bar"
           }
          ],
          "barpolar": [
           {
            "marker": {
             "line": {
              "color": "white",
              "width": 0.5
             },
             "pattern": {
              "fillmode": "overlay",
              "size": 10,
              "solidity": 0.2
             }
            },
            "type": "barpolar"
           }
          ],
          "carpet": [
           {
            "aaxis": {
             "endlinecolor": "rgb(36,36,36)",
             "gridcolor": "white",
             "linecolor": "white",
             "minorgridcolor": "white",
             "startlinecolor": "rgb(36,36,36)"
            },
            "baxis": {
             "endlinecolor": "rgb(36,36,36)",
             "gridcolor": "white",
             "linecolor": "white",
             "minorgridcolor": "white",
             "startlinecolor": "rgb(36,36,36)"
            },
            "type": "carpet"
           }
          ],
          "choropleth": [
           {
            "colorbar": {
             "outlinewidth": 1,
             "tickcolor": "rgb(36,36,36)",
             "ticks": "outside"
            },
            "type": "choropleth"
           }
          ],
          "contour": [
           {
            "colorbar": {
             "outlinewidth": 1,
             "tickcolor": "rgb(36,36,36)",
             "ticks": "outside"
            },
            "colorscale": [
             [
              0,
              "#440154"
             ],
             [
              0.1111111111111111,
              "#482878"
             ],
             [
              0.2222222222222222,
              "#3e4989"
             ],
             [
              0.3333333333333333,
              "#31688e"
             ],
             [
              0.4444444444444444,
              "#26828e"
             ],
             [
              0.5555555555555556,
              "#1f9e89"
             ],
             [
              0.6666666666666666,
              "#35b779"
             ],
             [
              0.7777777777777778,
              "#6ece58"
             ],
             [
              0.8888888888888888,
              "#b5de2b"
             ],
             [
              1,
              "#fde725"
             ]
            ],
            "type": "contour"
           }
          ],
          "contourcarpet": [
           {
            "colorbar": {
             "outlinewidth": 1,
             "tickcolor": "rgb(36,36,36)",
             "ticks": "outside"
            },
            "type": "contourcarpet"
           }
          ],
          "heatmap": [
           {
            "colorbar": {
             "outlinewidth": 1,
             "tickcolor": "rgb(36,36,36)",
             "ticks": "outside"
            },
            "colorscale": [
             [
              0,
              "#440154"
             ],
             [
              0.1111111111111111,
              "#482878"
             ],
             [
              0.2222222222222222,
              "#3e4989"
             ],
             [
              0.3333333333333333,
              "#31688e"
             ],
             [
              0.4444444444444444,
              "#26828e"
             ],
             [
              0.5555555555555556,
              "#1f9e89"
             ],
             [
              0.6666666666666666,
              "#35b779"
             ],
             [
              0.7777777777777778,
              "#6ece58"
             ],
             [
              0.8888888888888888,
              "#b5de2b"
             ],
             [
              1,
              "#fde725"
             ]
            ],
            "type": "heatmap"
           }
          ],
          "heatmapgl": [
           {
            "colorbar": {
             "outlinewidth": 1,
             "tickcolor": "rgb(36,36,36)",
             "ticks": "outside"
            },
            "colorscale": [
             [
              0,
              "#440154"
             ],
             [
              0.1111111111111111,
              "#482878"
             ],
             [
              0.2222222222222222,
              "#3e4989"
             ],
             [
              0.3333333333333333,
              "#31688e"
             ],
             [
              0.4444444444444444,
              "#26828e"
             ],
             [
              0.5555555555555556,
              "#1f9e89"
             ],
             [
              0.6666666666666666,
              "#35b779"
             ],
             [
              0.7777777777777778,
              "#6ece58"
             ],
             [
              0.8888888888888888,
              "#b5de2b"
             ],
             [
              1,
              "#fde725"
             ]
            ],
            "type": "heatmapgl"
           }
          ],
          "histogram": [
           {
            "marker": {
             "line": {
              "color": "white",
              "width": 0.6
             }
            },
            "type": "histogram"
           }
          ],
          "histogram2d": [
           {
            "colorbar": {
             "outlinewidth": 1,
             "tickcolor": "rgb(36,36,36)",
             "ticks": "outside"
            },
            "colorscale": [
             [
              0,
              "#440154"
             ],
             [
              0.1111111111111111,
              "#482878"
             ],
             [
              0.2222222222222222,
              "#3e4989"
             ],
             [
              0.3333333333333333,
              "#31688e"
             ],
             [
              0.4444444444444444,
              "#26828e"
             ],
             [
              0.5555555555555556,
              "#1f9e89"
             ],
             [
              0.6666666666666666,
              "#35b779"
             ],
             [
              0.7777777777777778,
              "#6ece58"
             ],
             [
              0.8888888888888888,
              "#b5de2b"
             ],
             [
              1,
              "#fde725"
             ]
            ],
            "type": "histogram2d"
           }
          ],
          "histogram2dcontour": [
           {
            "colorbar": {
             "outlinewidth": 1,
             "tickcolor": "rgb(36,36,36)",
             "ticks": "outside"
            },
            "colorscale": [
             [
              0,
              "#440154"
             ],
             [
              0.1111111111111111,
              "#482878"
             ],
             [
              0.2222222222222222,
              "#3e4989"
             ],
             [
              0.3333333333333333,
              "#31688e"
             ],
             [
              0.4444444444444444,
              "#26828e"
             ],
             [
              0.5555555555555556,
              "#1f9e89"
             ],
             [
              0.6666666666666666,
              "#35b779"
             ],
             [
              0.7777777777777778,
              "#6ece58"
             ],
             [
              0.8888888888888888,
              "#b5de2b"
             ],
             [
              1,
              "#fde725"
             ]
            ],
            "type": "histogram2dcontour"
           }
          ],
          "mesh3d": [
           {
            "colorbar": {
             "outlinewidth": 1,
             "tickcolor": "rgb(36,36,36)",
             "ticks": "outside"
            },
            "type": "mesh3d"
           }
          ],
          "parcoords": [
           {
            "line": {
             "colorbar": {
              "outlinewidth": 1,
              "tickcolor": "rgb(36,36,36)",
              "ticks": "outside"
             }
            },
            "type": "parcoords"
           }
          ],
          "pie": [
           {
            "automargin": true,
            "type": "pie"
           }
          ],
          "scatter": [
           {
            "fillpattern": {
             "fillmode": "overlay",
             "size": 10,
             "solidity": 0.2
            },
            "type": "scatter"
           }
          ],
          "scatter3d": [
           {
            "line": {
             "colorbar": {
              "outlinewidth": 1,
              "tickcolor": "rgb(36,36,36)",
              "ticks": "outside"
             }
            },
            "marker": {
             "colorbar": {
              "outlinewidth": 1,
              "tickcolor": "rgb(36,36,36)",
              "ticks": "outside"
             }
            },
            "type": "scatter3d"
           }
          ],
          "scattercarpet": [
           {
            "marker": {
             "colorbar": {
              "outlinewidth": 1,
              "tickcolor": "rgb(36,36,36)",
              "ticks": "outside"
             }
            },
            "type": "scattercarpet"
           }
          ],
          "scattergeo": [
           {
            "marker": {
             "colorbar": {
              "outlinewidth": 1,
              "tickcolor": "rgb(36,36,36)",
              "ticks": "outside"
             }
            },
            "type": "scattergeo"
           }
          ],
          "scattergl": [
           {
            "marker": {
             "colorbar": {
              "outlinewidth": 1,
              "tickcolor": "rgb(36,36,36)",
              "ticks": "outside"
             }
            },
            "type": "scattergl"
           }
          ],
          "scattermapbox": [
           {
            "marker": {
             "colorbar": {
              "outlinewidth": 1,
              "tickcolor": "rgb(36,36,36)",
              "ticks": "outside"
             }
            },
            "type": "scattermapbox"
           }
          ],
          "scatterpolar": [
           {
            "marker": {
             "colorbar": {
              "outlinewidth": 1,
              "tickcolor": "rgb(36,36,36)",
              "ticks": "outside"
             }
            },
            "type": "scatterpolar"
           }
          ],
          "scatterpolargl": [
           {
            "marker": {
             "colorbar": {
              "outlinewidth": 1,
              "tickcolor": "rgb(36,36,36)",
              "ticks": "outside"
             }
            },
            "type": "scatterpolargl"
           }
          ],
          "scatterternary": [
           {
            "marker": {
             "colorbar": {
              "outlinewidth": 1,
              "tickcolor": "rgb(36,36,36)",
              "ticks": "outside"
             }
            },
            "type": "scatterternary"
           }
          ],
          "surface": [
           {
            "colorbar": {
             "outlinewidth": 1,
             "tickcolor": "rgb(36,36,36)",
             "ticks": "outside"
            },
            "colorscale": [
             [
              0,
              "#440154"
             ],
             [
              0.1111111111111111,
              "#482878"
             ],
             [
              0.2222222222222222,
              "#3e4989"
             ],
             [
              0.3333333333333333,
              "#31688e"
             ],
             [
              0.4444444444444444,
              "#26828e"
             ],
             [
              0.5555555555555556,
              "#1f9e89"
             ],
             [
              0.6666666666666666,
              "#35b779"
             ],
             [
              0.7777777777777778,
              "#6ece58"
             ],
             [
              0.8888888888888888,
              "#b5de2b"
             ],
             [
              1,
              "#fde725"
             ]
            ],
            "type": "surface"
           }
          ],
          "table": [
           {
            "cells": {
             "fill": {
              "color": "rgb(237,237,237)"
             },
             "line": {
              "color": "white"
             }
            },
            "header": {
             "fill": {
              "color": "rgb(217,217,217)"
             },
             "line": {
              "color": "white"
             }
            },
            "type": "table"
           }
          ]
         },
         "layout": {
          "annotationdefaults": {
           "arrowhead": 0,
           "arrowwidth": 1
          },
          "autotypenumbers": "strict",
          "coloraxis": {
           "colorbar": {
            "outlinewidth": 1,
            "tickcolor": "rgb(36,36,36)",
            "ticks": "outside"
           }
          },
          "colorscale": {
           "diverging": [
            [
             0,
             "rgb(103,0,31)"
            ],
            [
             0.1,
             "rgb(178,24,43)"
            ],
            [
             0.2,
             "rgb(214,96,77)"
            ],
            [
             0.3,
             "rgb(244,165,130)"
            ],
            [
             0.4,
             "rgb(253,219,199)"
            ],
            [
             0.5,
             "rgb(247,247,247)"
            ],
            [
             0.6,
             "rgb(209,229,240)"
            ],
            [
             0.7,
             "rgb(146,197,222)"
            ],
            [
             0.8,
             "rgb(67,147,195)"
            ],
            [
             0.9,
             "rgb(33,102,172)"
            ],
            [
             1,
             "rgb(5,48,97)"
            ]
           ],
           "sequential": [
            [
             0,
             "#440154"
            ],
            [
             0.1111111111111111,
             "#482878"
            ],
            [
             0.2222222222222222,
             "#3e4989"
            ],
            [
             0.3333333333333333,
             "#31688e"
            ],
            [
             0.4444444444444444,
             "#26828e"
            ],
            [
             0.5555555555555556,
             "#1f9e89"
            ],
            [
             0.6666666666666666,
             "#35b779"
            ],
            [
             0.7777777777777778,
             "#6ece58"
            ],
            [
             0.8888888888888888,
             "#b5de2b"
            ],
            [
             1,
             "#fde725"
            ]
           ],
           "sequentialminus": [
            [
             0,
             "#440154"
            ],
            [
             0.1111111111111111,
             "#482878"
            ],
            [
             0.2222222222222222,
             "#3e4989"
            ],
            [
             0.3333333333333333,
             "#31688e"
            ],
            [
             0.4444444444444444,
             "#26828e"
            ],
            [
             0.5555555555555556,
             "#1f9e89"
            ],
            [
             0.6666666666666666,
             "#35b779"
            ],
            [
             0.7777777777777778,
             "#6ece58"
            ],
            [
             0.8888888888888888,
             "#b5de2b"
            ],
            [
             1,
             "#fde725"
            ]
           ]
          },
          "colorway": [
           "#1F77B4",
           "#FF7F0E",
           "#2CA02C",
           "#D62728",
           "#9467BD",
           "#8C564B",
           "#E377C2",
           "#7F7F7F",
           "#BCBD22",
           "#17BECF"
          ],
          "font": {
           "color": "rgb(36,36,36)"
          },
          "geo": {
           "bgcolor": "white",
           "lakecolor": "white",
           "landcolor": "white",
           "showlakes": true,
           "showland": true,
           "subunitcolor": "white"
          },
          "hoverlabel": {
           "align": "left"
          },
          "hovermode": "closest",
          "mapbox": {
           "style": "light"
          },
          "paper_bgcolor": "white",
          "plot_bgcolor": "white",
          "polar": {
           "angularaxis": {
            "gridcolor": "rgb(232,232,232)",
            "linecolor": "rgb(36,36,36)",
            "showgrid": false,
            "showline": true,
            "ticks": "outside"
           },
           "bgcolor": "white",
           "radialaxis": {
            "gridcolor": "rgb(232,232,232)",
            "linecolor": "rgb(36,36,36)",
            "showgrid": false,
            "showline": true,
            "ticks": "outside"
           }
          },
          "scene": {
           "xaxis": {
            "backgroundcolor": "white",
            "gridcolor": "rgb(232,232,232)",
            "gridwidth": 2,
            "linecolor": "rgb(36,36,36)",
            "showbackground": true,
            "showgrid": false,
            "showline": true,
            "ticks": "outside",
            "zeroline": false,
            "zerolinecolor": "rgb(36,36,36)"
           },
           "yaxis": {
            "backgroundcolor": "white",
            "gridcolor": "rgb(232,232,232)",
            "gridwidth": 2,
            "linecolor": "rgb(36,36,36)",
            "showbackground": true,
            "showgrid": false,
            "showline": true,
            "ticks": "outside",
            "zeroline": false,
            "zerolinecolor": "rgb(36,36,36)"
           },
           "zaxis": {
            "backgroundcolor": "white",
            "gridcolor": "rgb(232,232,232)",
            "gridwidth": 2,
            "linecolor": "rgb(36,36,36)",
            "showbackground": true,
            "showgrid": false,
            "showline": true,
            "ticks": "outside",
            "zeroline": false,
            "zerolinecolor": "rgb(36,36,36)"
           }
          },
          "shapedefaults": {
           "fillcolor": "black",
           "line": {
            "width": 0
           },
           "opacity": 0.3
          },
          "ternary": {
           "aaxis": {
            "gridcolor": "rgb(232,232,232)",
            "linecolor": "rgb(36,36,36)",
            "showgrid": false,
            "showline": true,
            "ticks": "outside"
           },
           "baxis": {
            "gridcolor": "rgb(232,232,232)",
            "linecolor": "rgb(36,36,36)",
            "showgrid": false,
            "showline": true,
            "ticks": "outside"
           },
           "bgcolor": "white",
           "caxis": {
            "gridcolor": "rgb(232,232,232)",
            "linecolor": "rgb(36,36,36)",
            "showgrid": false,
            "showline": true,
            "ticks": "outside"
           }
          },
          "title": {
           "x": 0.05
          },
          "xaxis": {
           "automargin": true,
           "gridcolor": "rgb(232,232,232)",
           "linecolor": "rgb(36,36,36)",
           "showgrid": false,
           "showline": true,
           "ticks": "outside",
           "title": {
            "standoff": 15
           },
           "zeroline": false,
           "zerolinecolor": "rgb(36,36,36)"
          },
          "yaxis": {
           "automargin": true,
           "gridcolor": "rgb(232,232,232)",
           "linecolor": "rgb(36,36,36)",
           "showgrid": false,
           "showline": true,
           "ticks": "outside",
           "title": {
            "standoff": 15
           },
           "zeroline": false,
           "zerolinecolor": "rgb(36,36,36)"
          }
         }
        },
        "title": {
         "text": "Scatter Cd X Zn",
         "x": 0.5
        },
        "width": 800,
        "xaxis": {
         "anchor": "y",
         "domain": [
          0,
          1
         ],
         "linecolor": "black",
         "linewidth": 0.5,
         "showline": true,
         "ticks": "inside",
         "tickwidth": 0.5,
         "title": {
          "text": "x"
         }
        },
        "yaxis": {
         "anchor": "x",
         "domain": [
          0,
          1
         ],
         "linecolor": "black",
         "linewidth": 0.5,
         "showline": true,
         "ticks": "inside",
         "tickwidth": 0.5,
         "title": {
          "text": "y"
         }
        }
       }
      }
     },
     "metadata": {},
     "output_type": "display_data"
    }
   ],
   "source": [
    "fig = px.scatter(\n",
    "    x=df_jura[\"vlCadmium\"],\n",
    "    y=df_jura[\"vlZinc\"], \n",
    "    color=df_jura['descUnit'],\n",
    "    title=\"Scatter Cd X Zn\"\n",
    "  )\n",
    "\n",
    "fig.update_layout(width=800, height=500, title_x=0.5,template=\"simple_white\",font_family=\"Calibri\", margin=dict(r=20,b=20)\n",
    ")\n",
    "fig.update_xaxes(showline=True,linewidth=0.5,linecolor='black',title_text='x',ticks=\"inside\",tickwidth=0.5)\n",
    "fig.update_yaxes(showline=True,linewidth=0.5,linecolor='black',title_text='y',ticks=\"inside\",tickwidth=0.5)\n",
    "fig.show()"
   ]
  },
  {
   "cell_type": "code",
   "execution_count": 14,
   "metadata": {},
   "outputs": [
    {
     "data": {
      "image/png": "[encoded data removed]",
      "text/plain": [
       "<Figure size 720x432 with 1 Axes>"
      ]
     },
     "metadata": {
      "needs_background": "light"
     },
     "output_type": "display_data"
    }
   ],
   "source": [
    "# plotting\n",
    "x=df_jura[\"vlCadmium\"]\n",
    "y=df_jura[\"vlZinc\"]\n",
    "plt.figure(figsize=(10,6))\n",
    "sns.scatterplot(x=df_jura[\"vlCadmium\"], y=df_jura[\"vlZinc\"])\n",
    "#p.set_title(f\"linear model\", fontsize=24)\n",
    "#p.set_xlabel(\"\", fontsize=16)\n",
    "#p.set_ylabel(y, fontsize=16)\n",
    "sns.despine()"
   ]
  },
  {
   "cell_type": "code",
   "execution_count": null,
   "metadata": {},
   "outputs": [],
   "source": []
  }
 ],
 "metadata": {
  "kernelspec": {
   "display_name": "env_spatial",
   "language": "python",
   "name": "python3"
  },
  "language_info": {
   "codemirror_mode": {
    "name": "ipython",
    "version": 3
   },
   "file_extension": ".py",
   "mimetype": "text/x-python",
   "name": "python",
   "nbconvert_exporter": "python",
   "pygments_lexer": "ipython3",
   "version": "3.10.4"
  },
  "orig_nbformat": 4
 },
 "nbformat": 4,
 "nbformat_minor": 2
}
