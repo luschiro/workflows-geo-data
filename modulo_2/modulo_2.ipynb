{
 "cells": [
  {
   "attachments": {},
   "cell_type": "markdown",
   "id": "d3a659df-371f-4049-a7b1-c9ddfe5affc1",
   "metadata": {},
   "source": [
    "# Workflows de Análise de Dados e Geoestatística\n",
    "\n",
    "## Módulo 2 - Análise Exploratória de Dados com Python"
   ]
  },
  {
   "cell_type": "markdown",
   "id": "6d679845",
   "metadata": {},
   "source": [
    "### Imports"
   ]
  },
  {
   "cell_type": "code",
   "execution_count": 1,
   "id": "0c4ddc5c-db8a-4c62-aa73-226447020f75",
   "metadata": {},
   "outputs": [],
   "source": [
    "# imports\n",
    "\n",
    "import os\n",
    "\n",
    "import pandas as pd\n",
    "\n",
    "# data viz\n",
    "import plotly\n",
    "import plotly.express as px\n",
    "import seaborn as sns\n",
    "import matplotlib.pyplot as plt"
   ]
  },
  {
   "cell_type": "code",
   "execution_count": 2,
   "id": "034a5863",
   "metadata": {},
   "outputs": [],
   "source": [
    "# configuring plots of seaborn\n",
    "sns.set_style(\"white\", {'axes.grid':False}, )"
   ]
  },
  {
   "attachments": {},
   "cell_type": "markdown",
   "id": "c6d3b639",
   "metadata": {},
   "source": [
    "### Helper functions"
   ]
  },
  {
   "cell_type": "code",
   "execution_count": 3,
   "id": "3123270e-85eb-4e33-8cab-f5a5e4c51e44",
   "metadata": {
    "tags": []
   },
   "outputs": [],
   "source": [
    "# directories\n",
    "def get_directories():\n",
    "    # getting working paths\n",
    "    CURRENT_DIR = os.path.dirname(os.path.realpath('__file__'))\n",
    "    PARENT_DIR = os.path.dirname(CURRENT_DIR)\n",
    "    #QUERY_DIR = os.path.join(CURRENT_DIR, 'queries')\n",
    "    DATA_DIR = os.path.join(PARENT_DIR, 'data')\n",
    "    \n",
    "    dirs = {\n",
    "        \"CURRENT_DIR\" : CURRENT_DIR,\n",
    "        \"PARENT_DIR\" : PARENT_DIR,\n",
    "        #\"QUERY_DIR\" : QUERY_DIR,\n",
    "        \"DATA_DIR\" : DATA_DIR\n",
    "    }\n",
    "\n",
    "    return (dirs)\n",
    "\n",
    "\n",
    "# metadados sobre dataframe\n",
    "def meta_df(df):\n",
    "    return pd.DataFrame({'dtypes': df.dtypes,\n",
    "                         'nmissing': df.isna().sum(),\n",
    "                         'missing%': round(df.isna().sum()/df.shape[0]*100, 2),\n",
    "                         'nunique': df.nunique(),\n",
    "                         'nunique%': round(df.nunique()/df.shape[0]*100, 2),\n",
    "                         'size': df.shape[0]}, index = df.columns)"
   ]
  },
  {
   "cell_type": "code",
   "execution_count": 4,
   "id": "9c150a88",
   "metadata": {},
   "outputs": [
    {
     "data": {
      "text/plain": [
       "{'CURRENT_DIR': 'C:\\\\Users\\\\lucas\\\\Documents\\\\code\\\\workflows-geoestatistica-data\\\\modulo_2',\n",
       " 'PARENT_DIR': 'C:\\\\Users\\\\lucas\\\\Documents\\\\code\\\\workflows-geoestatistica-data',\n",
       " 'DATA_DIR': 'C:\\\\Users\\\\lucas\\\\Documents\\\\code\\\\workflows-geoestatistica-data\\\\data'}"
      ]
     },
     "execution_count": 4,
     "metadata": {},
     "output_type": "execute_result"
    }
   ],
   "source": [
    "get_directories()"
   ]
  },
  {
   "cell_type": "code",
   "execution_count": 5,
   "id": "2bd03cb6-10eb-4d4d-8a25-fd0051fe0bbf",
   "metadata": {},
   "outputs": [
    {
     "data": {
      "text/html": [
       "<div>\n",
       "<style scoped>\n",
       "    .dataframe tbody tr th:only-of-type {\n",
       "        vertical-align: middle;\n",
       "    }\n",
       "\n",
       "    .dataframe tbody tr th {\n",
       "        vertical-align: top;\n",
       "    }\n",
       "\n",
       "    .dataframe thead th {\n",
       "        text-align: right;\n",
       "    }\n",
       "</style>\n",
       "<table border=\"1\" class=\"dataframe\">\n",
       "  <thead>\n",
       "    <tr style=\"text-align: right;\">\n",
       "      <th></th>\n",
       "      <th>vlLocX</th>\n",
       "      <th>vlLocY</th>\n",
       "      <th>descLanduse</th>\n",
       "      <th>descUnit</th>\n",
       "      <th>vlCadmium</th>\n",
       "      <th>vlCobalt</th>\n",
       "      <th>vlChromium</th>\n",
       "      <th>vlNickel</th>\n",
       "      <th>vlLead</th>\n",
       "      <th>vlZinc</th>\n",
       "      <th>status</th>\n",
       "      <th>rankCadmium</th>\n",
       "      <th>rankCobalt</th>\n",
       "      <th>rankChromium</th>\n",
       "      <th>rankNickel</th>\n",
       "      <th>rankPb</th>\n",
       "      <th>rankZn</th>\n",
       "      <th>descAnomalyZn</th>\n",
       "    </tr>\n",
       "  </thead>\n",
       "  <tbody>\n",
       "    <tr>\n",
       "      <th>0</th>\n",
       "      <td>1.932</td>\n",
       "      <td>1.004</td>\n",
       "      <td>campo</td>\n",
       "      <td>argoviano</td>\n",
       "      <td>0.135</td>\n",
       "      <td>4.520</td>\n",
       "      <td>15.08</td>\n",
       "      <td>5.24</td>\n",
       "      <td>37.00</td>\n",
       "      <td>32.56</td>\n",
       "      <td>NaN</td>\n",
       "      <td>0.00</td>\n",
       "      <td>0.14</td>\n",
       "      <td>0.02</td>\n",
       "      <td>0.03</td>\n",
       "      <td>0.28</td>\n",
       "      <td>0.04</td>\n",
       "      <td>normal</td>\n",
       "    </tr>\n",
       "    <tr>\n",
       "      <th>1</th>\n",
       "      <td>1.824</td>\n",
       "      <td>0.999</td>\n",
       "      <td>campo</td>\n",
       "      <td>argoviano</td>\n",
       "      <td>0.165</td>\n",
       "      <td>3.752</td>\n",
       "      <td>18.60</td>\n",
       "      <td>7.08</td>\n",
       "      <td>56.40</td>\n",
       "      <td>44.00</td>\n",
       "      <td>NaN</td>\n",
       "      <td>0.00</td>\n",
       "      <td>0.07</td>\n",
       "      <td>0.06</td>\n",
       "      <td>0.07</td>\n",
       "      <td>0.68</td>\n",
       "      <td>0.12</td>\n",
       "      <td>normal</td>\n",
       "    </tr>\n",
       "    <tr>\n",
       "      <th>2</th>\n",
       "      <td>1.883</td>\n",
       "      <td>1.176</td>\n",
       "      <td>campo</td>\n",
       "      <td>argoviano</td>\n",
       "      <td>0.195</td>\n",
       "      <td>3.920</td>\n",
       "      <td>21.80</td>\n",
       "      <td>7.52</td>\n",
       "      <td>49.60</td>\n",
       "      <td>43.20</td>\n",
       "      <td>NaN</td>\n",
       "      <td>0.01</td>\n",
       "      <td>0.10</td>\n",
       "      <td>0.12</td>\n",
       "      <td>0.10</td>\n",
       "      <td>0.56</td>\n",
       "      <td>0.10</td>\n",
       "      <td>normal</td>\n",
       "    </tr>\n",
       "    <tr>\n",
       "      <th>3</th>\n",
       "      <td>1.837</td>\n",
       "      <td>1.037</td>\n",
       "      <td>campo</td>\n",
       "      <td>argoviano</td>\n",
       "      <td>0.215</td>\n",
       "      <td>3.880</td>\n",
       "      <td>23.00</td>\n",
       "      <td>8.16</td>\n",
       "      <td>46.80</td>\n",
       "      <td>44.00</td>\n",
       "      <td>NaN</td>\n",
       "      <td>0.01</td>\n",
       "      <td>0.09</td>\n",
       "      <td>0.14</td>\n",
       "      <td>0.11</td>\n",
       "      <td>0.51</td>\n",
       "      <td>0.12</td>\n",
       "      <td>normal</td>\n",
       "    </tr>\n",
       "    <tr>\n",
       "      <th>4</th>\n",
       "      <td>3.768</td>\n",
       "      <td>2.775</td>\n",
       "      <td>floresta</td>\n",
       "      <td>kimmeridgiano</td>\n",
       "      <td>0.220</td>\n",
       "      <td>10.800</td>\n",
       "      <td>26.32</td>\n",
       "      <td>17.52</td>\n",
       "      <td>31.88</td>\n",
       "      <td>45.20</td>\n",
       "      <td>NaN</td>\n",
       "      <td>0.02</td>\n",
       "      <td>0.60</td>\n",
       "      <td>0.20</td>\n",
       "      <td>0.37</td>\n",
       "      <td>0.11</td>\n",
       "      <td>0.14</td>\n",
       "      <td>normal</td>\n",
       "    </tr>\n",
       "    <tr>\n",
       "      <th>5</th>\n",
       "      <td>1.839</td>\n",
       "      <td>0.995</td>\n",
       "      <td>campo</td>\n",
       "      <td>argoviano</td>\n",
       "      <td>0.225</td>\n",
       "      <td>4.240</td>\n",
       "      <td>24.88</td>\n",
       "      <td>10.12</td>\n",
       "      <td>55.60</td>\n",
       "      <td>56.00</td>\n",
       "      <td>NaN</td>\n",
       "      <td>0.02</td>\n",
       "      <td>0.12</td>\n",
       "      <td>0.17</td>\n",
       "      <td>0.16</td>\n",
       "      <td>0.68</td>\n",
       "      <td>0.26</td>\n",
       "      <td>normal</td>\n",
       "    </tr>\n",
       "    <tr>\n",
       "      <th>6</th>\n",
       "      <td>2.537</td>\n",
       "      <td>3.768</td>\n",
       "      <td>campo</td>\n",
       "      <td>argoviano</td>\n",
       "      <td>0.230</td>\n",
       "      <td>3.792</td>\n",
       "      <td>18.20</td>\n",
       "      <td>5.68</td>\n",
       "      <td>26.84</td>\n",
       "      <td>32.08</td>\n",
       "      <td>NaN</td>\n",
       "      <td>0.02</td>\n",
       "      <td>0.08</td>\n",
       "      <td>0.04</td>\n",
       "      <td>0.05</td>\n",
       "      <td>0.04</td>\n",
       "      <td>0.03</td>\n",
       "      <td>normal</td>\n",
       "    </tr>\n",
       "    <tr>\n",
       "      <th>7</th>\n",
       "      <td>2.502</td>\n",
       "      <td>3.988</td>\n",
       "      <td>campo</td>\n",
       "      <td>argoviano</td>\n",
       "      <td>0.240</td>\n",
       "      <td>3.760</td>\n",
       "      <td>18.92</td>\n",
       "      <td>5.20</td>\n",
       "      <td>22.36</td>\n",
       "      <td>32.24</td>\n",
       "      <td>NaN</td>\n",
       "      <td>0.03</td>\n",
       "      <td>0.08</td>\n",
       "      <td>0.06</td>\n",
       "      <td>0.03</td>\n",
       "      <td>0.02</td>\n",
       "      <td>0.04</td>\n",
       "      <td>normal</td>\n",
       "    </tr>\n",
       "    <tr>\n",
       "      <th>8</th>\n",
       "      <td>1.842</td>\n",
       "      <td>0.989</td>\n",
       "      <td>campo</td>\n",
       "      <td>argoviano</td>\n",
       "      <td>0.240</td>\n",
       "      <td>4.520</td>\n",
       "      <td>27.96</td>\n",
       "      <td>11.32</td>\n",
       "      <td>52.40</td>\n",
       "      <td>56.40</td>\n",
       "      <td>NaN</td>\n",
       "      <td>0.03</td>\n",
       "      <td>0.14</td>\n",
       "      <td>0.26</td>\n",
       "      <td>0.20</td>\n",
       "      <td>0.62</td>\n",
       "      <td>0.26</td>\n",
       "      <td>normal</td>\n",
       "    </tr>\n",
       "    <tr>\n",
       "      <th>9</th>\n",
       "      <td>1.897</td>\n",
       "      <td>1.220</td>\n",
       "      <td>campo</td>\n",
       "      <td>argoviano</td>\n",
       "      <td>0.260</td>\n",
       "      <td>3.480</td>\n",
       "      <td>16.24</td>\n",
       "      <td>4.76</td>\n",
       "      <td>27.00</td>\n",
       "      <td>27.20</td>\n",
       "      <td>NaN</td>\n",
       "      <td>0.04</td>\n",
       "      <td>0.04</td>\n",
       "      <td>0.03</td>\n",
       "      <td>0.01</td>\n",
       "      <td>0.05</td>\n",
       "      <td>0.01</td>\n",
       "      <td>normal</td>\n",
       "    </tr>\n",
       "  </tbody>\n",
       "</table>\n",
       "</div>"
      ],
      "text/plain": [
       "   vlLocX  vlLocY descLanduse       descUnit  vlCadmium  vlCobalt  vlChromium  \\\n",
       "0   1.932   1.004       campo      argoviano      0.135     4.520       15.08   \n",
       "1   1.824   0.999       campo      argoviano      0.165     3.752       18.60   \n",
       "2   1.883   1.176       campo      argoviano      0.195     3.920       21.80   \n",
       "3   1.837   1.037       campo      argoviano      0.215     3.880       23.00   \n",
       "4   3.768   2.775    floresta  kimmeridgiano      0.220    10.800       26.32   \n",
       "5   1.839   0.995       campo      argoviano      0.225     4.240       24.88   \n",
       "6   2.537   3.768       campo      argoviano      0.230     3.792       18.20   \n",
       "7   2.502   3.988       campo      argoviano      0.240     3.760       18.92   \n",
       "8   1.842   0.989       campo      argoviano      0.240     4.520       27.96   \n",
       "9   1.897   1.220       campo      argoviano      0.260     3.480       16.24   \n",
       "\n",
       "   vlNickel  vlLead  vlZinc status  rankCadmium  rankCobalt  rankChromium  \\\n",
       "0      5.24   37.00   32.56    NaN         0.00        0.14          0.02   \n",
       "1      7.08   56.40   44.00    NaN         0.00        0.07          0.06   \n",
       "2      7.52   49.60   43.20    NaN         0.01        0.10          0.12   \n",
       "3      8.16   46.80   44.00    NaN         0.01        0.09          0.14   \n",
       "4     17.52   31.88   45.20    NaN         0.02        0.60          0.20   \n",
       "5     10.12   55.60   56.00    NaN         0.02        0.12          0.17   \n",
       "6      5.68   26.84   32.08    NaN         0.02        0.08          0.04   \n",
       "7      5.20   22.36   32.24    NaN         0.03        0.08          0.06   \n",
       "8     11.32   52.40   56.40    NaN         0.03        0.14          0.26   \n",
       "9      4.76   27.00   27.20    NaN         0.04        0.04          0.03   \n",
       "\n",
       "   rankNickel  rankPb  rankZn descAnomalyZn  \n",
       "0        0.03    0.28    0.04        normal  \n",
       "1        0.07    0.68    0.12        normal  \n",
       "2        0.10    0.56    0.10        normal  \n",
       "3        0.11    0.51    0.12        normal  \n",
       "4        0.37    0.11    0.14        normal  \n",
       "5        0.16    0.68    0.26        normal  \n",
       "6        0.05    0.04    0.03        normal  \n",
       "7        0.03    0.02    0.04        normal  \n",
       "8        0.20    0.62    0.26        normal  \n",
       "9        0.01    0.05    0.01        normal  "
      ]
     },
     "execution_count": 5,
     "metadata": {},
     "output_type": "execute_result"
    }
   ],
   "source": [
    "# importing data\n",
    "\n",
    "data_dir = get_directories()[\"DATA_DIR\"]\n",
    "df_jura = pd.read_csv(os.path.join(data_dir,\"silver_jura.csv\"))\n",
    "df_jura.head(10)"
   ]
  },
  {
   "cell_type": "code",
   "execution_count": 6,
   "id": "8fa795bd",
   "metadata": {},
   "outputs": [
    {
     "data": {
      "text/html": [
       "<div>\n",
       "<style scoped>\n",
       "    .dataframe tbody tr th:only-of-type {\n",
       "        vertical-align: middle;\n",
       "    }\n",
       "\n",
       "    .dataframe tbody tr th {\n",
       "        vertical-align: top;\n",
       "    }\n",
       "\n",
       "    .dataframe thead th {\n",
       "        text-align: right;\n",
       "    }\n",
       "</style>\n",
       "<table border=\"1\" class=\"dataframe\">\n",
       "  <thead>\n",
       "    <tr style=\"text-align: right;\">\n",
       "      <th></th>\n",
       "      <th>dtypes</th>\n",
       "      <th>nmissing</th>\n",
       "      <th>missing%</th>\n",
       "      <th>nunique</th>\n",
       "      <th>nunique%</th>\n",
       "      <th>size</th>\n",
       "    </tr>\n",
       "  </thead>\n",
       "  <tbody>\n",
       "    <tr>\n",
       "      <th>vlLocX</th>\n",
       "      <td>float64</td>\n",
       "      <td>0</td>\n",
       "      <td>0.00</td>\n",
       "      <td>238</td>\n",
       "      <td>94.82</td>\n",
       "      <td>251</td>\n",
       "    </tr>\n",
       "    <tr>\n",
       "      <th>vlLocY</th>\n",
       "      <td>float64</td>\n",
       "      <td>0</td>\n",
       "      <td>0.00</td>\n",
       "      <td>241</td>\n",
       "      <td>96.02</td>\n",
       "      <td>251</td>\n",
       "    </tr>\n",
       "    <tr>\n",
       "      <th>descLanduse</th>\n",
       "      <td>object</td>\n",
       "      <td>0</td>\n",
       "      <td>0.00</td>\n",
       "      <td>4</td>\n",
       "      <td>1.59</td>\n",
       "      <td>251</td>\n",
       "    </tr>\n",
       "    <tr>\n",
       "      <th>descUnit</th>\n",
       "      <td>object</td>\n",
       "      <td>0</td>\n",
       "      <td>0.00</td>\n",
       "      <td>5</td>\n",
       "      <td>1.99</td>\n",
       "      <td>251</td>\n",
       "    </tr>\n",
       "    <tr>\n",
       "      <th>vlCadmium</th>\n",
       "      <td>float64</td>\n",
       "      <td>0</td>\n",
       "      <td>0.00</td>\n",
       "      <td>209</td>\n",
       "      <td>83.27</td>\n",
       "      <td>251</td>\n",
       "    </tr>\n",
       "    <tr>\n",
       "      <th>vlCobalt</th>\n",
       "      <td>float64</td>\n",
       "      <td>0</td>\n",
       "      <td>0.00</td>\n",
       "      <td>172</td>\n",
       "      <td>68.53</td>\n",
       "      <td>251</td>\n",
       "    </tr>\n",
       "    <tr>\n",
       "      <th>vlChromium</th>\n",
       "      <td>float64</td>\n",
       "      <td>0</td>\n",
       "      <td>0.00</td>\n",
       "      <td>198</td>\n",
       "      <td>78.88</td>\n",
       "      <td>251</td>\n",
       "    </tr>\n",
       "    <tr>\n",
       "      <th>vlNickel</th>\n",
       "      <td>float64</td>\n",
       "      <td>0</td>\n",
       "      <td>0.00</td>\n",
       "      <td>213</td>\n",
       "      <td>84.86</td>\n",
       "      <td>251</td>\n",
       "    </tr>\n",
       "    <tr>\n",
       "      <th>vlLead</th>\n",
       "      <td>float64</td>\n",
       "      <td>0</td>\n",
       "      <td>0.00</td>\n",
       "      <td>192</td>\n",
       "      <td>76.49</td>\n",
       "      <td>251</td>\n",
       "    </tr>\n",
       "    <tr>\n",
       "      <th>vlZinc</th>\n",
       "      <td>float64</td>\n",
       "      <td>0</td>\n",
       "      <td>0.00</td>\n",
       "      <td>183</td>\n",
       "      <td>72.91</td>\n",
       "      <td>251</td>\n",
       "    </tr>\n",
       "    <tr>\n",
       "      <th>status</th>\n",
       "      <td>object</td>\n",
       "      <td>247</td>\n",
       "      <td>98.41</td>\n",
       "      <td>1</td>\n",
       "      <td>0.40</td>\n",
       "      <td>251</td>\n",
       "    </tr>\n",
       "    <tr>\n",
       "      <th>rankCadmium</th>\n",
       "      <td>float64</td>\n",
       "      <td>0</td>\n",
       "      <td>0.00</td>\n",
       "      <td>99</td>\n",
       "      <td>39.44</td>\n",
       "      <td>251</td>\n",
       "    </tr>\n",
       "    <tr>\n",
       "      <th>rankCobalt</th>\n",
       "      <td>float64</td>\n",
       "      <td>0</td>\n",
       "      <td>0.00</td>\n",
       "      <td>95</td>\n",
       "      <td>37.85</td>\n",
       "      <td>251</td>\n",
       "    </tr>\n",
       "    <tr>\n",
       "      <th>rankChromium</th>\n",
       "      <td>float64</td>\n",
       "      <td>0</td>\n",
       "      <td>0.00</td>\n",
       "      <td>99</td>\n",
       "      <td>39.44</td>\n",
       "      <td>251</td>\n",
       "    </tr>\n",
       "    <tr>\n",
       "      <th>rankNickel</th>\n",
       "      <td>float64</td>\n",
       "      <td>0</td>\n",
       "      <td>0.00</td>\n",
       "      <td>101</td>\n",
       "      <td>40.24</td>\n",
       "      <td>251</td>\n",
       "    </tr>\n",
       "    <tr>\n",
       "      <th>rankPb</th>\n",
       "      <td>float64</td>\n",
       "      <td>0</td>\n",
       "      <td>0.00</td>\n",
       "      <td>97</td>\n",
       "      <td>38.65</td>\n",
       "      <td>251</td>\n",
       "    </tr>\n",
       "    <tr>\n",
       "      <th>rankZn</th>\n",
       "      <td>float64</td>\n",
       "      <td>0</td>\n",
       "      <td>0.00</td>\n",
       "      <td>95</td>\n",
       "      <td>37.85</td>\n",
       "      <td>251</td>\n",
       "    </tr>\n",
       "    <tr>\n",
       "      <th>descAnomalyZn</th>\n",
       "      <td>object</td>\n",
       "      <td>0</td>\n",
       "      <td>0.00</td>\n",
       "      <td>2</td>\n",
       "      <td>0.80</td>\n",
       "      <td>251</td>\n",
       "    </tr>\n",
       "  </tbody>\n",
       "</table>\n",
       "</div>"
      ],
      "text/plain": [
       "                dtypes  nmissing  missing%  nunique  nunique%  size\n",
       "vlLocX         float64         0      0.00      238     94.82   251\n",
       "vlLocY         float64         0      0.00      241     96.02   251\n",
       "descLanduse     object         0      0.00        4      1.59   251\n",
       "descUnit        object         0      0.00        5      1.99   251\n",
       "vlCadmium      float64         0      0.00      209     83.27   251\n",
       "vlCobalt       float64         0      0.00      172     68.53   251\n",
       "vlChromium     float64         0      0.00      198     78.88   251\n",
       "vlNickel       float64         0      0.00      213     84.86   251\n",
       "vlLead         float64         0      0.00      192     76.49   251\n",
       "vlZinc         float64         0      0.00      183     72.91   251\n",
       "status          object       247     98.41        1      0.40   251\n",
       "rankCadmium    float64         0      0.00       99     39.44   251\n",
       "rankCobalt     float64         0      0.00       95     37.85   251\n",
       "rankChromium   float64         0      0.00       99     39.44   251\n",
       "rankNickel     float64         0      0.00      101     40.24   251\n",
       "rankPb         float64         0      0.00       97     38.65   251\n",
       "rankZn         float64         0      0.00       95     37.85   251\n",
       "descAnomalyZn   object         0      0.00        2      0.80   251"
      ]
     },
     "execution_count": 6,
     "metadata": {},
     "output_type": "execute_result"
    }
   ],
   "source": [
    "meta_df(df_jura)"
   ]
  },
  {
   "cell_type": "code",
   "execution_count": 7,
   "id": "8381db42",
   "metadata": {},
   "outputs": [
    {
     "data": {
      "text/plain": [
       "Index(['vlLocX', 'vlLocY', 'descLanduse', 'descUnit', 'vlCadmium', 'vlCobalt',\n",
       "       'vlChromium', 'vlNickel', 'vlLead', 'vlZinc', 'status', 'rankCadmium',\n",
       "       'rankCobalt', 'rankChromium', 'rankNickel', 'rankPb', 'rankZn',\n",
       "       'descAnomalyZn'],\n",
       "      dtype='object')"
      ]
     },
     "execution_count": 7,
     "metadata": {},
     "output_type": "execute_result"
    }
   ],
   "source": [
    "df_jura.columns"
   ]
  },
  {
   "cell_type": "code",
   "execution_count": 8,
   "id": "db93a701",
   "metadata": {},
   "outputs": [
    {
     "data": {
      "text/plain": [
       "['vlCadmium',\n",
       " 'vlCobalt',\n",
       " 'vlChromium',\n",
       " 'vlNickel',\n",
       " 'vlLead',\n",
       " 'vlZinc',\n",
       " 'descUnit']"
      ]
     },
     "execution_count": 8,
     "metadata": {},
     "output_type": "execute_result"
    }
   ],
   "source": [
    "grade_features = [\"vlCadmium\", \"vlCobalt\", \"vlChromium\", \"vlNickel\", \"vlLead\", \"vlZinc\", \"descUnit\"]\n",
    "grade_features"
   ]
  },
  {
   "cell_type": "markdown",
   "id": "b994b31a",
   "metadata": {},
   "source": [
    "### Visualizing Data"
   ]
  },
  {
   "cell_type": "code",
   "execution_count": 9,
   "id": "47839442",
   "metadata": {},
   "outputs": [
    {
     "data": {
      "application/vnd.plotly.v1+json": {
       "config": {
        "plotlyServerURL": "https://plot.ly"
       },
       "data": [
        {
         "hovertemplate": "color=argoviano<br>x=%{x}<br>y=%{y}<extra></extra>",
         "legendgroup": "argoviano",
         "marker": {
          "color": "#636efa",
          "symbol": "circle"
         },
         "mode": "markers",
         "name": "argoviano",
         "orientation": "v",
         "showlegend": true,
         "type": "scatter",
         "x": [
          0.135,
          0.165,
          0.195,
          0.215,
          0.225,
          0.23,
          0.24,
          0.24,
          0.26,
          0.275,
          0.32,
          0.325,
          0.35,
          0.357,
          0.45,
          0.465,
          0.49,
          0.505,
          0.515,
          0.515,
          0.525,
          0.54,
          0.56,
          0.57,
          0.58,
          0.605,
          0.62,
          0.625,
          0.63,
          0.645,
          0.655,
          0.69,
          0.74,
          0.81,
          0.885,
          1.13,
          1.245,
          1.455,
          1.685,
          1.82,
          1.835,
          2.26,
          2.55,
          2.7,
          3.421,
          3.873,
          4.191,
          4.227,
          4.495,
          5.129
         ],
         "xaxis": "x",
         "y": [
          32.56,
          44,
          43.2,
          44,
          56,
          32.08,
          32.24,
          56.4,
          27.2,
          37.88,
          39.88,
          35.08,
          37.16,
          46.8,
          39.4,
          44.4,
          56.8,
          54.4,
          43.2,
          50.4,
          49.6,
          53.2,
          57.2,
          47.6,
          50.4,
          54,
          46.8,
          31.32,
          36.64,
          42.4,
          51.24,
          45.6,
          62.4,
          42,
          46.8,
          32.84,
          71.2,
          39.6,
          84.32,
          39.8,
          97.48,
          77.6,
          96.96,
          99.6,
          134.4,
          143.2,
          145.6,
          136.8,
          101.68,
          135.6
         ],
         "yaxis": "y"
        },
        {
         "hovertemplate": "color=kimmeridgiano<br>x=%{x}<br>y=%{y}<extra></extra>",
         "legendgroup": "kimmeridgiano",
         "marker": {
          "color": "#EF553B",
          "symbol": "circle"
         },
         "mode": "markers",
         "name": "kimmeridgiano",
         "orientation": "v",
         "showlegend": true,
         "type": "scatter",
         "x": [
          0.22,
          0.285,
          0.375,
          0.44,
          0.485,
          0.525,
          0.555,
          0.62,
          0.625,
          0.65,
          0.69,
          0.72,
          0.733,
          0.735,
          0.75,
          0.765,
          0.77,
          0.775,
          0.785,
          0.805,
          0.81,
          0.83,
          0.844,
          0.845,
          0.86,
          0.875,
          0.93,
          0.95,
          0.951,
          0.96,
          0.99,
          0.995,
          1.025,
          1.06,
          1.095,
          1.11,
          1.11,
          1.145,
          1.205,
          1.285,
          1.3,
          1.305,
          1.335,
          1.36,
          1.38,
          1.38,
          1.384,
          1.385,
          1.4,
          1.445,
          1.535,
          1.535,
          1.555,
          1.56,
          1.563,
          1.57,
          1.575,
          1.61,
          1.63,
          1.66,
          1.71,
          1.74,
          1.785,
          1.79,
          1.819,
          1.835,
          1.875,
          1.885,
          1.898,
          1.93,
          1.96,
          1.985,
          2.04,
          2.08,
          2.115,
          2.12,
          2.15,
          2.23,
          2.234,
          2.505,
          2.828,
          3.925,
          4.18
         ],
         "xaxis": "x",
         "y": [
          45.2,
          76,
          46.4,
          54.8,
          57.96,
          91.48,
          64.8,
          78,
          43.6,
          74,
          66.4,
          63.2,
          74,
          79.04,
          80.8,
          90.8,
          62.28,
          70.8,
          60.8,
          61.6,
          58.8,
          84.4,
          90,
          79.6,
          63.6,
          76.4,
          56.4,
          74,
          70.8,
          64.8,
          65.6,
          54,
          47.6,
          80.8,
          56.8,
          79,
          71.12,
          74.4,
          85.52,
          65.2,
          71.76,
          77.6,
          73.56,
          28.88,
          55.2,
          71.6,
          46.8,
          49.2,
          70.8,
          104.4,
          52.4,
          85.6,
          77.56,
          94,
          104,
          81.6,
          90.68,
          31.16,
          77.4,
          123.32,
          106.36,
          73.6,
          58,
          80.32,
          82.4,
          90,
          65.2,
          120.28,
          86,
          166.28,
          123.84,
          89.84,
          107.2,
          110.8,
          133.88,
          64.8,
          90,
          96.6,
          64,
          78.4,
          132.8,
          92.36,
          81.72
         ],
         "yaxis": "y"
        },
        {
         "hovertemplate": "color=quaternario<br>x=%{x}<br>y=%{y}<extra></extra>",
         "legendgroup": "quaternario",
         "marker": {
          "color": "#00cc96",
          "symbol": "circle"
         },
         "mode": "markers",
         "name": "quaternario",
         "orientation": "v",
         "showlegend": true,
         "type": "scatter",
         "x": [
          0.275,
          0.3,
          0.305,
          0.325,
          0.36,
          0.37,
          0.4,
          0.425,
          0.425,
          0.455,
          0.495,
          0.535,
          0.55,
          0.552,
          0.56,
          0.56,
          0.74,
          0.82,
          0.855,
          0.86,
          0.86,
          0.894,
          0.945,
          0.95,
          0.975,
          0.98,
          1.06,
          1.07,
          1.145,
          1.255,
          1.34,
          1.385,
          1.385,
          1.39,
          1.435,
          1.445,
          1.525,
          1.53,
          1.565,
          1.568,
          1.585,
          1.605,
          1.71,
          1.72,
          1.77,
          1.84,
          1.895,
          1.9,
          1.98,
          2.15,
          2.423,
          2.96
         ],
         "xaxis": "x",
         "y": [
          33.44,
          27.12,
          44.8,
          40.8,
          28.92,
          47.2,
          25.2,
          61.6,
          31.48,
          37.88,
          50.4,
          32.92,
          76,
          79.2,
          49.2,
          57.2,
          83.2,
          67.6,
          59.6,
          58.8,
          61.6,
          72.4,
          104.36,
          61.2,
          83.2,
          72.8,
          78.4,
          70.8,
          75.2,
          101.6,
          81.2,
          94.8,
          123,
          135.88,
          110.32,
          75.6,
          87.6,
          80.8,
          88.4,
          71.6,
          114.28,
          75.2,
          125.4,
          75.6,
          89.2,
          86,
          141.6,
          83.6,
          108,
          120.8,
          84,
          148.4
         ],
         "yaxis": "y"
        },
        {
         "hovertemplate": "color=sequaniano<br>x=%{x}<br>y=%{y}<extra></extra>",
         "legendgroup": "sequaniano",
         "marker": {
          "color": "#ab63fa",
          "symbol": "circle"
         },
         "mode": "markers",
         "name": "sequaniano",
         "orientation": "v",
         "showlegend": true,
         "type": "scatter",
         "x": [
          0.28,
          0.32,
          0.4,
          0.575,
          0.585,
          0.605,
          0.61,
          0.625,
          0.63,
          0.685,
          0.685,
          0.705,
          0.705,
          0.725,
          0.765,
          0.795,
          0.8,
          0.84,
          0.849,
          0.89,
          0.895,
          0.9,
          0.905,
          0.91,
          0.93,
          0.99,
          1.003,
          1.015,
          1.05,
          1.12,
          1.165,
          1.215,
          1.22,
          1.24,
          1.26,
          1.27,
          1.39,
          1.48,
          1.51,
          1.58,
          1.61,
          1.655,
          1.74,
          1.775,
          1.91,
          1.915,
          1.916,
          1.917,
          1.97,
          2.055,
          2.055,
          2.08,
          2.17,
          2.535,
          2.58,
          2.818,
          3.149,
          3.53,
          3.68,
          3.805,
          3.81,
          3.995,
          4.02
         ],
         "xaxis": "x",
         "y": [
          46.4,
          43.72,
          44,
          66.92,
          76.8,
          67.16,
          51.24,
          75.6,
          80.76,
          53.6,
          76,
          59.88,
          96.6,
          56.72,
          86.2,
          65.6,
          100.4,
          58.8,
          58,
          66,
          102.44,
          94.8,
          78.4,
          75.2,
          69.2,
          60.12,
          110,
          70.4,
          48.4,
          83.2,
          59.6,
          64,
          90,
          83.2,
          62.8,
          65.2,
          149.2,
          140.4,
          80.4,
          86,
          64.8,
          81.6,
          92.56,
          91.6,
          50.4,
          90.24,
          90.8,
          59.6,
          99.2,
          59.36,
          108,
          79.6,
          74.4,
          126.8,
          106.4,
          80.8,
          98,
          124.8,
          89.6,
          219.32,
          102,
          118.24,
          101.6
         ],
         "yaxis": "y"
        },
        {
         "hovertemplate": "color=portlandiano<br>x=%{x}<br>y=%{y}<extra></extra>",
         "legendgroup": "portlandiano",
         "marker": {
          "color": "#FFA15A",
          "symbol": "circle"
         },
         "mode": "markers",
         "name": "portlandiano",
         "orientation": "v",
         "showlegend": true,
         "type": "scatter",
         "x": [
          1.1,
          1.645,
          2.805
         ],
         "xaxis": "x",
         "y": [
          44,
          90.4,
          65.6
         ],
         "yaxis": "y"
        }
       ],
       "layout": {
        "font": {
         "family": "Calibri"
        },
        "height": 500,
        "legend": {
         "title": {
          "text": "color"
         },
         "tracegroupgap": 0
        },
        "margin": {
         "b": 20,
         "r": 20
        },
        "template": {
         "data": {
          "bar": [
           {
            "error_x": {
             "color": "rgb(36,36,36)"
            },
            "error_y": {
             "color": "rgb(36,36,36)"
            },
            "marker": {
             "line": {
              "color": "white",
              "width": 0.5
             },
             "pattern": {
              "fillmode": "overlay",
              "size": 10,
              "solidity": 0.2
             }
            },
            "type": "bar"
           }
          ],
          "barpolar": [
           {
            "marker": {
             "line": {
              "color": "white",
              "width": 0.5
             },
             "pattern": {
              "fillmode": "overlay",
              "size": 10,
              "solidity": 0.2
             }
            },
            "type": "barpolar"
           }
          ],
          "carpet": [
           {
            "aaxis": {
             "endlinecolor": "rgb(36,36,36)",
             "gridcolor": "white",
             "linecolor": "white",
             "minorgridcolor": "white",
             "startlinecolor": "rgb(36,36,36)"
            },
            "baxis": {
             "endlinecolor": "rgb(36,36,36)",
             "gridcolor": "white",
             "linecolor": "white",
             "minorgridcolor": "white",
             "startlinecolor": "rgb(36,36,36)"
            },
            "type": "carpet"
           }
          ],
          "choropleth": [
           {
            "colorbar": {
             "outlinewidth": 1,
             "tickcolor": "rgb(36,36,36)",
             "ticks": "outside"
            },
            "type": "choropleth"
           }
          ],
          "contour": [
           {
            "colorbar": {
             "outlinewidth": 1,
             "tickcolor": "rgb(36,36,36)",
             "ticks": "outside"
            },
            "colorscale": [
             [
              0,
              "#440154"
             ],
             [
              0.1111111111111111,
              "#482878"
             ],
             [
              0.2222222222222222,
              "#3e4989"
             ],
             [
              0.3333333333333333,
              "#31688e"
             ],
             [
              0.4444444444444444,
              "#26828e"
             ],
             [
              0.5555555555555556,
              "#1f9e89"
             ],
             [
              0.6666666666666666,
              "#35b779"
             ],
             [
              0.7777777777777778,
              "#6ece58"
             ],
             [
              0.8888888888888888,
              "#b5de2b"
             ],
             [
              1,
              "#fde725"
             ]
            ],
            "type": "contour"
           }
          ],
          "contourcarpet": [
           {
            "colorbar": {
             "outlinewidth": 1,
             "tickcolor": "rgb(36,36,36)",
             "ticks": "outside"
            },
            "type": "contourcarpet"
           }
          ],
          "heatmap": [
           {
            "colorbar": {
             "outlinewidth": 1,
             "tickcolor": "rgb(36,36,36)",
             "ticks": "outside"
            },
            "colorscale": [
             [
              0,
              "#440154"
             ],
             [
              0.1111111111111111,
              "#482878"
             ],
             [
              0.2222222222222222,
              "#3e4989"
             ],
             [
              0.3333333333333333,
              "#31688e"
             ],
             [
              0.4444444444444444,
              "#26828e"
             ],
             [
              0.5555555555555556,
              "#1f9e89"
             ],
             [
              0.6666666666666666,
              "#35b779"
             ],
             [
              0.7777777777777778,
              "#6ece58"
             ],
             [
              0.8888888888888888,
              "#b5de2b"
             ],
             [
              1,
              "#fde725"
             ]
            ],
            "type": "heatmap"
           }
          ],
          "heatmapgl": [
           {
            "colorbar": {
             "outlinewidth": 1,
             "tickcolor": "rgb(36,36,36)",
             "ticks": "outside"
            },
            "colorscale": [
             [
              0,
              "#440154"
             ],
             [
              0.1111111111111111,
              "#482878"
             ],
             [
              0.2222222222222222,
              "#3e4989"
             ],
             [
              0.3333333333333333,
              "#31688e"
             ],
             [
              0.4444444444444444,
              "#26828e"
             ],
             [
              0.5555555555555556,
              "#1f9e89"
             ],
             [
              0.6666666666666666,
              "#35b779"
             ],
             [
              0.7777777777777778,
              "#6ece58"
             ],
             [
              0.8888888888888888,
              "#b5de2b"
             ],
             [
              1,
              "#fde725"
             ]
            ],
            "type": "heatmapgl"
           }
          ],
          "histogram": [
           {
            "marker": {
             "line": {
              "color": "white",
              "width": 0.6
             }
            },
            "type": "histogram"
           }
          ],
          "histogram2d": [
           {
            "colorbar": {
             "outlinewidth": 1,
             "tickcolor": "rgb(36,36,36)",
             "ticks": "outside"
            },
            "colorscale": [
             [
              0,
              "#440154"
             ],
             [
              0.1111111111111111,
              "#482878"
             ],
             [
              0.2222222222222222,
              "#3e4989"
             ],
             [
              0.3333333333333333,
              "#31688e"
             ],
             [
              0.4444444444444444,
              "#26828e"
             ],
             [
              0.5555555555555556,
              "#1f9e89"
             ],
             [
              0.6666666666666666,
              "#35b779"
             ],
             [
              0.7777777777777778,
              "#6ece58"
             ],
             [
              0.8888888888888888,
              "#b5de2b"
             ],
             [
              1,
              "#fde725"
             ]
            ],
            "type": "histogram2d"
           }
          ],
          "histogram2dcontour": [
           {
            "colorbar": {
             "outlinewidth": 1,
             "tickcolor": "rgb(36,36,36)",
             "ticks": "outside"
            },
            "colorscale": [
             [
              0,
              "#440154"
             ],
             [
              0.1111111111111111,
              "#482878"
             ],
             [
              0.2222222222222222,
              "#3e4989"
             ],
             [
              0.3333333333333333,
              "#31688e"
             ],
             [
              0.4444444444444444,
              "#26828e"
             ],
             [
              0.5555555555555556,
              "#1f9e89"
             ],
             [
              0.6666666666666666,
              "#35b779"
             ],
             [
              0.7777777777777778,
              "#6ece58"
             ],
             [
              0.8888888888888888,
              "#b5de2b"
             ],
             [
              1,
              "#fde725"
             ]
            ],
            "type": "histogram2dcontour"
           }
          ],
          "mesh3d": [
           {
            "colorbar": {
             "outlinewidth": 1,
             "tickcolor": "rgb(36,36,36)",
             "ticks": "outside"
            },
            "type": "mesh3d"
           }
          ],
          "parcoords": [
           {
            "line": {
             "colorbar": {
              "outlinewidth": 1,
              "tickcolor": "rgb(36,36,36)",
              "ticks": "outside"
             }
            },
            "type": "parcoords"
           }
          ],
          "pie": [
           {
            "automargin": true,
            "type": "pie"
           }
          ],
          "scatter": [
           {
            "fillpattern": {
             "fillmode": "overlay",
             "size": 10,
             "solidity": 0.2
            },
            "type": "scatter"
           }
          ],
          "scatter3d": [
           {
            "line": {
             "colorbar": {
              "outlinewidth": 1,
              "tickcolor": "rgb(36,36,36)",
              "ticks": "outside"
             }
            },
            "marker": {
             "colorbar": {
              "outlinewidth": 1,
              "tickcolor": "rgb(36,36,36)",
              "ticks": "outside"
             }
            },
            "type": "scatter3d"
           }
          ],
          "scattercarpet": [
           {
            "marker": {
             "colorbar": {
              "outlinewidth": 1,
              "tickcolor": "rgb(36,36,36)",
              "ticks": "outside"
             }
            },
            "type": "scattercarpet"
           }
          ],
          "scattergeo": [
           {
            "marker": {
             "colorbar": {
              "outlinewidth": 1,
              "tickcolor": "rgb(36,36,36)",
              "ticks": "outside"
             }
            },
            "type": "scattergeo"
           }
          ],
          "scattergl": [
           {
            "marker": {
             "colorbar": {
              "outlinewidth": 1,
              "tickcolor": "rgb(36,36,36)",
              "ticks": "outside"
             }
            },
            "type": "scattergl"
           }
          ],
          "scattermapbox": [
           {
            "marker": {
             "colorbar": {
              "outlinewidth": 1,
              "tickcolor": "rgb(36,36,36)",
              "ticks": "outside"
             }
            },
            "type": "scattermapbox"
           }
          ],
          "scatterpolar": [
           {
            "marker": {
             "colorbar": {
              "outlinewidth": 1,
              "tickcolor": "rgb(36,36,36)",
              "ticks": "outside"
             }
            },
            "type": "scatterpolar"
           }
          ],
          "scatterpolargl": [
           {
            "marker": {
             "colorbar": {
              "outlinewidth": 1,
              "tickcolor": "rgb(36,36,36)",
              "ticks": "outside"
             }
            },
            "type": "scatterpolargl"
           }
          ],
          "scatterternary": [
           {
            "marker": {
             "colorbar": {
              "outlinewidth": 1,
              "tickcolor": "rgb(36,36,36)",
              "ticks": "outside"
             }
            },
            "type": "scatterternary"
           }
          ],
          "surface": [
           {
            "colorbar": {
             "outlinewidth": 1,
             "tickcolor": "rgb(36,36,36)",
             "ticks": "outside"
            },
            "colorscale": [
             [
              0,
              "#440154"
             ],
             [
              0.1111111111111111,
              "#482878"
             ],
             [
              0.2222222222222222,
              "#3e4989"
             ],
             [
              0.3333333333333333,
              "#31688e"
             ],
             [
              0.4444444444444444,
              "#26828e"
             ],
             [
              0.5555555555555556,
              "#1f9e89"
             ],
             [
              0.6666666666666666,
              "#35b779"
             ],
             [
              0.7777777777777778,
              "#6ece58"
             ],
             [
              0.8888888888888888,
              "#b5de2b"
             ],
             [
              1,
              "#fde725"
             ]
            ],
            "type": "surface"
           }
          ],
          "table": [
           {
            "cells": {
             "fill": {
              "color": "rgb(237,237,237)"
             },
             "line": {
              "color": "white"
             }
            },
            "header": {
             "fill": {
              "color": "rgb(217,217,217)"
             },
             "line": {
              "color": "white"
             }
            },
            "type": "table"
           }
          ]
         },
         "layout": {
          "annotationdefaults": {
           "arrowhead": 0,
           "arrowwidth": 1
          },
          "autotypenumbers": "strict",
          "coloraxis": {
           "colorbar": {
            "outlinewidth": 1,
            "tickcolor": "rgb(36,36,36)",
            "ticks": "outside"
           }
          },
          "colorscale": {
           "diverging": [
            [
             0,
             "rgb(103,0,31)"
            ],
            [
             0.1,
             "rgb(178,24,43)"
            ],
            [
             0.2,
             "rgb(214,96,77)"
            ],
            [
             0.3,
             "rgb(244,165,130)"
            ],
            [
             0.4,
             "rgb(253,219,199)"
            ],
            [
             0.5,
             "rgb(247,247,247)"
            ],
            [
             0.6,
             "rgb(209,229,240)"
            ],
            [
             0.7,
             "rgb(146,197,222)"
            ],
            [
             0.8,
             "rgb(67,147,195)"
            ],
            [
             0.9,
             "rgb(33,102,172)"
            ],
            [
             1,
             "rgb(5,48,97)"
            ]
           ],
           "sequential": [
            [
             0,
             "#440154"
            ],
            [
             0.1111111111111111,
             "#482878"
            ],
            [
             0.2222222222222222,
             "#3e4989"
            ],
            [
             0.3333333333333333,
             "#31688e"
            ],
            [
             0.4444444444444444,
             "#26828e"
            ],
            [
             0.5555555555555556,
             "#1f9e89"
            ],
            [
             0.6666666666666666,
             "#35b779"
            ],
            [
             0.7777777777777778,
             "#6ece58"
            ],
            [
             0.8888888888888888,
             "#b5de2b"
            ],
            [
             1,
             "#fde725"
            ]
           ],
           "sequentialminus": [
            [
             0,
             "#440154"
            ],
            [
             0.1111111111111111,
             "#482878"
            ],
            [
             0.2222222222222222,
             "#3e4989"
            ],
            [
             0.3333333333333333,
             "#31688e"
            ],
            [
             0.4444444444444444,
             "#26828e"
            ],
            [
             0.5555555555555556,
             "#1f9e89"
            ],
            [
             0.6666666666666666,
             "#35b779"
            ],
            [
             0.7777777777777778,
             "#6ece58"
            ],
            [
             0.8888888888888888,
             "#b5de2b"
            ],
            [
             1,
             "#fde725"
            ]
           ]
          },
          "colorway": [
           "#1F77B4",
           "#FF7F0E",
           "#2CA02C",
           "#D62728",
           "#9467BD",
           "#8C564B",
           "#E377C2",
           "#7F7F7F",
           "#BCBD22",
           "#17BECF"
          ],
          "font": {
           "color": "rgb(36,36,36)"
          },
          "geo": {
           "bgcolor": "white",
           "lakecolor": "white",
           "landcolor": "white",
           "showlakes": true,
           "showland": true,
           "subunitcolor": "white"
          },
          "hoverlabel": {
           "align": "left"
          },
          "hovermode": "closest",
          "mapbox": {
           "style": "light"
          },
          "paper_bgcolor": "white",
          "plot_bgcolor": "white",
          "polar": {
           "angularaxis": {
            "gridcolor": "rgb(232,232,232)",
            "linecolor": "rgb(36,36,36)",
            "showgrid": false,
            "showline": true,
            "ticks": "outside"
           },
           "bgcolor": "white",
           "radialaxis": {
            "gridcolor": "rgb(232,232,232)",
            "linecolor": "rgb(36,36,36)",
            "showgrid": false,
            "showline": true,
            "ticks": "outside"
           }
          },
          "scene": {
           "xaxis": {
            "backgroundcolor": "white",
            "gridcolor": "rgb(232,232,232)",
            "gridwidth": 2,
            "linecolor": "rgb(36,36,36)",
            "showbackground": true,
            "showgrid": false,
            "showline": true,
            "ticks": "outside",
            "zeroline": false,
            "zerolinecolor": "rgb(36,36,36)"
           },
           "yaxis": {
            "backgroundcolor": "white",
            "gridcolor": "rgb(232,232,232)",
            "gridwidth": 2,
            "linecolor": "rgb(36,36,36)",
            "showbackground": true,
            "showgrid": false,
            "showline": true,
            "ticks": "outside",
            "zeroline": false,
            "zerolinecolor": "rgb(36,36,36)"
           },
           "zaxis": {
            "backgroundcolor": "white",
            "gridcolor": "rgb(232,232,232)",
            "gridwidth": 2,
            "linecolor": "rgb(36,36,36)",
            "showbackground": true,
            "showgrid": false,
            "showline": true,
            "ticks": "outside",
            "zeroline": false,
            "zerolinecolor": "rgb(36,36,36)"
           }
          },
          "shapedefaults": {
           "fillcolor": "black",
           "line": {
            "width": 0
           },
           "opacity": 0.3
          },
          "ternary": {
           "aaxis": {
            "gridcolor": "rgb(232,232,232)",
            "linecolor": "rgb(36,36,36)",
            "showgrid": false,
            "showline": true,
            "ticks": "outside"
           },
           "baxis": {
            "gridcolor": "rgb(232,232,232)",
            "linecolor": "rgb(36,36,36)",
            "showgrid": false,
            "showline": true,
            "ticks": "outside"
           },
           "bgcolor": "white",
           "caxis": {
            "gridcolor": "rgb(232,232,232)",
            "linecolor": "rgb(36,36,36)",
            "showgrid": false,
            "showline": true,
            "ticks": "outside"
           }
          },
          "title": {
           "x": 0.05
          },
          "xaxis": {
           "automargin": true,
           "gridcolor": "rgb(232,232,232)",
           "linecolor": "rgb(36,36,36)",
           "showgrid": false,
           "showline": true,
           "ticks": "outside",
           "title": {
            "standoff": 15
           },
           "zeroline": false,
           "zerolinecolor": "rgb(36,36,36)"
          },
          "yaxis": {
           "automargin": true,
           "gridcolor": "rgb(232,232,232)",
           "linecolor": "rgb(36,36,36)",
           "showgrid": false,
           "showline": true,
           "ticks": "outside",
           "title": {
            "standoff": 15
           },
           "zeroline": false,
           "zerolinecolor": "rgb(36,36,36)"
          }
         }
        },
        "title": {
         "text": "Scatter Cd X Zn",
         "x": 0.5
        },
        "width": 800,
        "xaxis": {
         "anchor": "y",
         "domain": [
          0,
          1
         ],
         "linecolor": "black",
         "linewidth": 0.5,
         "showline": true,
         "ticks": "inside",
         "tickwidth": 0.5,
         "title": {
          "text": "x"
         }
        },
        "yaxis": {
         "anchor": "x",
         "domain": [
          0,
          1
         ],
         "linecolor": "black",
         "linewidth": 0.5,
         "showline": true,
         "ticks": "inside",
         "tickwidth": 0.5,
         "title": {
          "text": "y"
         }
        }
       }
      }
     },
     "metadata": {},
     "output_type": "display_data"
    }
   ],
   "source": [
    "fig = px.scatter(\n",
    "    x=df_jura[\"vlCadmium\"],\n",
    "    y=df_jura[\"vlZinc\"], \n",
    "    color=df_jura['descUnit'],\n",
    "    title=\"Scatter Cd X Zn\"\n",
    "  )\n",
    "\n",
    "fig.update_layout(width=800, height=500, title_x=0.5,template=\"simple_white\",font_family=\"Calibri\", margin=dict(r=20,b=20)\n",
    ")\n",
    "fig.update_xaxes(showline=True,linewidth=0.5,linecolor='black',title_text='x',ticks=\"inside\",tickwidth=0.5)\n",
    "fig.update_yaxes(showline=True,linewidth=0.5,linecolor='black',title_text='y',ticks=\"inside\",tickwidth=0.5)\n",
    "fig.show()"
   ]
  },
  {
   "cell_type": "markdown",
   "id": "ac99eca5",
   "metadata": {},
   "source": [
    "#### Creating linear models"
   ]
  },
  {
   "cell_type": "code",
   "execution_count": 10,
   "id": "16297d72",
   "metadata": {},
   "outputs": [],
   "source": [
    "from sklearn.linear_model import LinearRegression\n",
    "import numpy as np\n",
    "import plotly.graph_objects as go"
   ]
  },
  {
   "cell_type": "code",
   "execution_count": 11,
   "id": "d7c3a18b",
   "metadata": {},
   "outputs": [],
   "source": [
    "def plot_linear_model_pair (df, x_elem, y_elem):\n",
    "\n",
    "  # objeto Regressor\n",
    "  reg = LinearRegression()\n",
    "\n",
    "  xm = df[x_elem].values[:,np.newaxis]\n",
    "  ym = df[y_elem].values\n",
    "\n",
    "  reg.fit(X=xm, y=ym)\n",
    "  line = reg.predict(xm)\n",
    "\n",
    "  print(xm)\n",
    "\n",
    "  # plotting\n",
    "  plt.figure(figsize=(12,8))\n",
    "  sns.scatterplot(x=xm, y=ym)\n",
    "  sns.lineplot(xm,line)\n",
    "  plt.show()\n",
    "\n",
    "  return reg.get_params()"
   ]
  },
  {
   "cell_type": "code",
   "execution_count": 12,
   "id": "d7857842",
   "metadata": {},
   "outputs": [
    {
     "name": "stdout",
     "output_type": "stream",
     "text": [
      "[[0.135]\n",
      " [0.165]\n",
      " [0.195]\n",
      " [0.215]\n",
      " [0.22 ]\n",
      " [0.225]\n",
      " [0.23 ]\n",
      " [0.24 ]\n",
      " [0.24 ]\n",
      " [0.26 ]\n",
      " [0.275]\n",
      " [0.275]\n",
      " [0.28 ]\n",
      " [0.285]\n",
      " [0.3  ]\n",
      " [0.305]\n",
      " [0.32 ]\n",
      " [0.32 ]\n",
      " [0.325]\n",
      " [0.325]\n",
      " [0.35 ]\n",
      " [0.357]\n",
      " [0.36 ]\n",
      " [0.37 ]\n",
      " [0.375]\n",
      " [0.4  ]\n",
      " [0.4  ]\n",
      " [0.425]\n",
      " [0.425]\n",
      " [0.44 ]\n",
      " [0.45 ]\n",
      " [0.455]\n",
      " [0.465]\n",
      " [0.485]\n",
      " [0.49 ]\n",
      " [0.495]\n",
      " [0.505]\n",
      " [0.515]\n",
      " [0.515]\n",
      " [0.525]\n",
      " [0.525]\n",
      " [0.535]\n",
      " [0.54 ]\n",
      " [0.55 ]\n",
      " [0.552]\n",
      " [0.555]\n",
      " [0.56 ]\n",
      " [0.56 ]\n",
      " [0.56 ]\n",
      " [0.57 ]\n",
      " [0.575]\n",
      " [0.58 ]\n",
      " [0.585]\n",
      " [0.605]\n",
      " [0.605]\n",
      " [0.61 ]\n",
      " [0.62 ]\n",
      " [0.62 ]\n",
      " [0.625]\n",
      " [0.625]\n",
      " [0.625]\n",
      " [0.63 ]\n",
      " [0.63 ]\n",
      " [0.645]\n",
      " [0.65 ]\n",
      " [0.655]\n",
      " [0.685]\n",
      " [0.685]\n",
      " [0.69 ]\n",
      " [0.69 ]\n",
      " [0.705]\n",
      " [0.705]\n",
      " [0.72 ]\n",
      " [0.725]\n",
      " [0.733]\n",
      " [0.735]\n",
      " [0.74 ]\n",
      " [0.74 ]\n",
      " [0.75 ]\n",
      " [0.765]\n",
      " [0.765]\n",
      " [0.77 ]\n",
      " [0.775]\n",
      " [0.785]\n",
      " [0.795]\n",
      " [0.8  ]\n",
      " [0.805]\n",
      " [0.81 ]\n",
      " [0.81 ]\n",
      " [0.82 ]\n",
      " [0.83 ]\n",
      " [0.84 ]\n",
      " [0.844]\n",
      " [0.845]\n",
      " [0.849]\n",
      " [0.855]\n",
      " [0.86 ]\n",
      " [0.86 ]\n",
      " [0.86 ]\n",
      " [0.875]\n",
      " [0.885]\n",
      " [0.89 ]\n",
      " [0.894]\n",
      " [0.895]\n",
      " [0.9  ]\n",
      " [0.905]\n",
      " [0.91 ]\n",
      " [0.93 ]\n",
      " [0.93 ]\n",
      " [0.945]\n",
      " [0.95 ]\n",
      " [0.95 ]\n",
      " [0.951]\n",
      " [0.96 ]\n",
      " [0.975]\n",
      " [0.98 ]\n",
      " [0.99 ]\n",
      " [0.99 ]\n",
      " [0.995]\n",
      " [1.003]\n",
      " [1.015]\n",
      " [1.025]\n",
      " [1.05 ]\n",
      " [1.06 ]\n",
      " [1.06 ]\n",
      " [1.07 ]\n",
      " [1.095]\n",
      " [1.1  ]\n",
      " [1.11 ]\n",
      " [1.11 ]\n",
      " [1.12 ]\n",
      " [1.13 ]\n",
      " [1.145]\n",
      " [1.145]\n",
      " [1.165]\n",
      " [1.205]\n",
      " [1.215]\n",
      " [1.22 ]\n",
      " [1.24 ]\n",
      " [1.245]\n",
      " [1.255]\n",
      " [1.26 ]\n",
      " [1.27 ]\n",
      " [1.285]\n",
      " [1.3  ]\n",
      " [1.305]\n",
      " [1.335]\n",
      " [1.34 ]\n",
      " [1.36 ]\n",
      " [1.38 ]\n",
      " [1.38 ]\n",
      " [1.384]\n",
      " [1.385]\n",
      " [1.385]\n",
      " [1.385]\n",
      " [1.39 ]\n",
      " [1.39 ]\n",
      " [1.4  ]\n",
      " [1.435]\n",
      " [1.445]\n",
      " [1.445]\n",
      " [1.455]\n",
      " [1.48 ]\n",
      " [1.51 ]\n",
      " [1.525]\n",
      " [1.53 ]\n",
      " [1.535]\n",
      " [1.535]\n",
      " [1.555]\n",
      " [1.56 ]\n",
      " [1.563]\n",
      " [1.565]\n",
      " [1.568]\n",
      " [1.57 ]\n",
      " [1.575]\n",
      " [1.58 ]\n",
      " [1.585]\n",
      " [1.605]\n",
      " [1.61 ]\n",
      " [1.61 ]\n",
      " [1.63 ]\n",
      " [1.645]\n",
      " [1.655]\n",
      " [1.66 ]\n",
      " [1.685]\n",
      " [1.71 ]\n",
      " [1.71 ]\n",
      " [1.72 ]\n",
      " [1.74 ]\n",
      " [1.74 ]\n",
      " [1.77 ]\n",
      " [1.775]\n",
      " [1.785]\n",
      " [1.79 ]\n",
      " [1.819]\n",
      " [1.82 ]\n",
      " [1.835]\n",
      " [1.835]\n",
      " [1.84 ]\n",
      " [1.875]\n",
      " [1.885]\n",
      " [1.895]\n",
      " [1.898]\n",
      " [1.9  ]\n",
      " [1.91 ]\n",
      " [1.915]\n",
      " [1.916]\n",
      " [1.917]\n",
      " [1.93 ]\n",
      " [1.96 ]\n",
      " [1.97 ]\n",
      " [1.98 ]\n",
      " [1.985]\n",
      " [2.04 ]\n",
      " [2.055]\n",
      " [2.055]\n",
      " [2.08 ]\n",
      " [2.08 ]\n",
      " [2.115]\n",
      " [2.12 ]\n",
      " [2.15 ]\n",
      " [2.15 ]\n",
      " [2.17 ]\n",
      " [2.23 ]\n",
      " [2.234]\n",
      " [2.26 ]\n",
      " [2.423]\n",
      " [2.505]\n",
      " [2.535]\n",
      " [2.55 ]\n",
      " [2.58 ]\n",
      " [2.7  ]\n",
      " [2.805]\n",
      " [2.818]\n",
      " [2.828]\n",
      " [2.96 ]\n",
      " [3.149]\n",
      " [3.421]\n",
      " [3.53 ]\n",
      " [3.68 ]\n",
      " [3.805]\n",
      " [3.81 ]\n",
      " [3.873]\n",
      " [3.925]\n",
      " [3.995]\n",
      " [4.02 ]\n",
      " [4.18 ]\n",
      " [4.191]\n",
      " [4.227]\n",
      " [4.495]\n",
      " [5.129]]\n"
     ]
    },
    {
     "ename": "ValueError",
     "evalue": "Per-column arrays must each be 1-dimensional",
     "output_type": "error",
     "traceback": [
      "\u001b[1;31m---------------------------------------------------------------------------\u001b[0m",
      "\u001b[1;31mValueError\u001b[0m                                Traceback (most recent call last)",
      "\u001b[1;32mc:\\Users\\lucas\\Documents\\code\\workflows-geoestatistica-data\\modulo_2\\modulo_2.ipynb Cell 17\u001b[0m in \u001b[0;36m<cell line: 1>\u001b[1;34m()\u001b[0m\n\u001b[1;32m----> <a href='vscode-notebook-cell:/c%3A/Users/lucas/Documents/code/workflows-geoestatistica-data/modulo_2/modulo_2.ipynb#X22sZmlsZQ%3D%3D?line=0'>1</a>\u001b[0m plot_linear_model_pair(df_jura, \u001b[39m\"\u001b[39;49m\u001b[39mvlCadmium\u001b[39;49m\u001b[39m\"\u001b[39;49m, \u001b[39m\"\u001b[39;49m\u001b[39mvlZinc\u001b[39;49m\u001b[39m\"\u001b[39;49m)\n",
      "\u001b[1;32mc:\\Users\\lucas\\Documents\\code\\workflows-geoestatistica-data\\modulo_2\\modulo_2.ipynb Cell 17\u001b[0m in \u001b[0;36mplot_linear_model_pair\u001b[1;34m(df, x_elem, y_elem)\u001b[0m\n\u001b[0;32m     <a href='vscode-notebook-cell:/c%3A/Users/lucas/Documents/code/workflows-geoestatistica-data/modulo_2/modulo_2.ipynb#X22sZmlsZQ%3D%3D?line=13'>14</a>\u001b[0m \u001b[39m# plotting\u001b[39;00m\n\u001b[0;32m     <a href='vscode-notebook-cell:/c%3A/Users/lucas/Documents/code/workflows-geoestatistica-data/modulo_2/modulo_2.ipynb#X22sZmlsZQ%3D%3D?line=14'>15</a>\u001b[0m plt\u001b[39m.\u001b[39mfigure(figsize\u001b[39m=\u001b[39m(\u001b[39m12\u001b[39m,\u001b[39m8\u001b[39m))\n\u001b[1;32m---> <a href='vscode-notebook-cell:/c%3A/Users/lucas/Documents/code/workflows-geoestatistica-data/modulo_2/modulo_2.ipynb#X22sZmlsZQ%3D%3D?line=15'>16</a>\u001b[0m sns\u001b[39m.\u001b[39;49mscatterplot(x\u001b[39m=\u001b[39;49mxm, y\u001b[39m=\u001b[39;49mym)\n\u001b[0;32m     <a href='vscode-notebook-cell:/c%3A/Users/lucas/Documents/code/workflows-geoestatistica-data/modulo_2/modulo_2.ipynb#X22sZmlsZQ%3D%3D?line=16'>17</a>\u001b[0m sns\u001b[39m.\u001b[39mlineplot(xm,line)\n\u001b[0;32m     <a href='vscode-notebook-cell:/c%3A/Users/lucas/Documents/code/workflows-geoestatistica-data/modulo_2/modulo_2.ipynb#X22sZmlsZQ%3D%3D?line=17'>18</a>\u001b[0m plt\u001b[39m.\u001b[39mshow()\n",
      "File \u001b[1;32mc:\\Users\\lucas\\miniconda3\\envs\\env_spatial\\lib\\site-packages\\seaborn\\relational.py:742\u001b[0m, in \u001b[0;36mscatterplot\u001b[1;34m(data, x, y, hue, size, style, palette, hue_order, hue_norm, sizes, size_order, size_norm, markers, style_order, legend, ax, **kwargs)\u001b[0m\n\u001b[0;32m    732\u001b[0m \u001b[39mdef\u001b[39;00m \u001b[39mscatterplot\u001b[39m(\n\u001b[0;32m    733\u001b[0m     data\u001b[39m=\u001b[39m\u001b[39mNone\u001b[39;00m, \u001b[39m*\u001b[39m,\n\u001b[0;32m    734\u001b[0m     x\u001b[39m=\u001b[39m\u001b[39mNone\u001b[39;00m, y\u001b[39m=\u001b[39m\u001b[39mNone\u001b[39;00m, hue\u001b[39m=\u001b[39m\u001b[39mNone\u001b[39;00m, size\u001b[39m=\u001b[39m\u001b[39mNone\u001b[39;00m, style\u001b[39m=\u001b[39m\u001b[39mNone\u001b[39;00m,\n\u001b[1;32m   (...)\u001b[0m\n\u001b[0;32m    738\u001b[0m     \u001b[39m*\u001b[39m\u001b[39m*\u001b[39mkwargs\n\u001b[0;32m    739\u001b[0m ):\n\u001b[0;32m    741\u001b[0m     variables \u001b[39m=\u001b[39m _ScatterPlotter\u001b[39m.\u001b[39mget_semantics(\u001b[39mlocals\u001b[39m())\n\u001b[1;32m--> 742\u001b[0m     p \u001b[39m=\u001b[39m _ScatterPlotter(data\u001b[39m=\u001b[39;49mdata, variables\u001b[39m=\u001b[39;49mvariables, legend\u001b[39m=\u001b[39;49mlegend)\n\u001b[0;32m    744\u001b[0m     p\u001b[39m.\u001b[39mmap_hue(palette\u001b[39m=\u001b[39mpalette, order\u001b[39m=\u001b[39mhue_order, norm\u001b[39m=\u001b[39mhue_norm)\n\u001b[0;32m    745\u001b[0m     p\u001b[39m.\u001b[39mmap_size(sizes\u001b[39m=\u001b[39msizes, order\u001b[39m=\u001b[39msize_order, norm\u001b[39m=\u001b[39msize_norm)\n",
      "File \u001b[1;32mc:\\Users\\lucas\\miniconda3\\envs\\env_spatial\\lib\\site-packages\\seaborn\\relational.py:538\u001b[0m, in \u001b[0;36m_ScatterPlotter.__init__\u001b[1;34m(self, data, variables, legend)\u001b[0m\n\u001b[0;32m    529\u001b[0m \u001b[39mdef\u001b[39;00m \u001b[39m__init__\u001b[39m(\u001b[39mself\u001b[39m, \u001b[39m*\u001b[39m, data\u001b[39m=\u001b[39m\u001b[39mNone\u001b[39;00m, variables\u001b[39m=\u001b[39m{}, legend\u001b[39m=\u001b[39m\u001b[39mNone\u001b[39;00m):\n\u001b[0;32m    530\u001b[0m \n\u001b[0;32m    531\u001b[0m     \u001b[39m# TODO this is messy, we want the mapping to be agnostic about\u001b[39;00m\n\u001b[0;32m    532\u001b[0m     \u001b[39m# the kind of plot to draw, but for the time being we need to set\u001b[39;00m\n\u001b[0;32m    533\u001b[0m     \u001b[39m# this information so the SizeMapping can use it\u001b[39;00m\n\u001b[0;32m    534\u001b[0m     \u001b[39mself\u001b[39m\u001b[39m.\u001b[39m_default_size_range \u001b[39m=\u001b[39m (\n\u001b[0;32m    535\u001b[0m         np\u001b[39m.\u001b[39mr_[\u001b[39m.5\u001b[39m, \u001b[39m2\u001b[39m] \u001b[39m*\u001b[39m np\u001b[39m.\u001b[39msquare(mpl\u001b[39m.\u001b[39mrcParams[\u001b[39m\"\u001b[39m\u001b[39mlines.markersize\u001b[39m\u001b[39m\"\u001b[39m])\n\u001b[0;32m    536\u001b[0m     )\n\u001b[1;32m--> 538\u001b[0m     \u001b[39msuper\u001b[39;49m()\u001b[39m.\u001b[39;49m\u001b[39m__init__\u001b[39;49m(data\u001b[39m=\u001b[39;49mdata, variables\u001b[39m=\u001b[39;49mvariables)\n\u001b[0;32m    540\u001b[0m     \u001b[39mself\u001b[39m\u001b[39m.\u001b[39mlegend \u001b[39m=\u001b[39m legend\n",
      "File \u001b[1;32mc:\\Users\\lucas\\miniconda3\\envs\\env_spatial\\lib\\site-packages\\seaborn\\_oldcore.py:640\u001b[0m, in \u001b[0;36mVectorPlotter.__init__\u001b[1;34m(self, data, variables)\u001b[0m\n\u001b[0;32m    635\u001b[0m \u001b[39m# var_ordered is relevant only for categorical axis variables, and may\u001b[39;00m\n\u001b[0;32m    636\u001b[0m \u001b[39m# be better handled by an internal axis information object that tracks\u001b[39;00m\n\u001b[0;32m    637\u001b[0m \u001b[39m# such information and is set up by the scale_* methods. The analogous\u001b[39;00m\n\u001b[0;32m    638\u001b[0m \u001b[39m# information for numeric axes would be information about log scales.\u001b[39;00m\n\u001b[0;32m    639\u001b[0m \u001b[39mself\u001b[39m\u001b[39m.\u001b[39m_var_ordered \u001b[39m=\u001b[39m {\u001b[39m\"\u001b[39m\u001b[39mx\u001b[39m\u001b[39m\"\u001b[39m: \u001b[39mFalse\u001b[39;00m, \u001b[39m\"\u001b[39m\u001b[39my\u001b[39m\u001b[39m\"\u001b[39m: \u001b[39mFalse\u001b[39;00m}  \u001b[39m# alt., used DefaultDict\u001b[39;00m\n\u001b[1;32m--> 640\u001b[0m \u001b[39mself\u001b[39;49m\u001b[39m.\u001b[39;49massign_variables(data, variables)\n\u001b[0;32m    642\u001b[0m \u001b[39mfor\u001b[39;00m var, \u001b[39mcls\u001b[39m \u001b[39min\u001b[39;00m \u001b[39mself\u001b[39m\u001b[39m.\u001b[39m_semantic_mappings\u001b[39m.\u001b[39mitems():\n\u001b[0;32m    643\u001b[0m \n\u001b[0;32m    644\u001b[0m     \u001b[39m# Create the mapping function\u001b[39;00m\n\u001b[0;32m    645\u001b[0m     map_func \u001b[39m=\u001b[39m partial(\u001b[39mcls\u001b[39m\u001b[39m.\u001b[39mmap, plotter\u001b[39m=\u001b[39m\u001b[39mself\u001b[39m)\n",
      "File \u001b[1;32mc:\\Users\\lucas\\miniconda3\\envs\\env_spatial\\lib\\site-packages\\seaborn\\_oldcore.py:701\u001b[0m, in \u001b[0;36mVectorPlotter.assign_variables\u001b[1;34m(self, data, variables)\u001b[0m\n\u001b[0;32m    699\u001b[0m \u001b[39melse\u001b[39;00m:\n\u001b[0;32m    700\u001b[0m     \u001b[39mself\u001b[39m\u001b[39m.\u001b[39minput_format \u001b[39m=\u001b[39m \u001b[39m\"\u001b[39m\u001b[39mlong\u001b[39m\u001b[39m\"\u001b[39m\n\u001b[1;32m--> 701\u001b[0m     plot_data, variables \u001b[39m=\u001b[39m \u001b[39mself\u001b[39m\u001b[39m.\u001b[39m_assign_variables_longform(\n\u001b[0;32m    702\u001b[0m         data, \u001b[39m*\u001b[39m\u001b[39m*\u001b[39mvariables,\n\u001b[0;32m    703\u001b[0m     )\n\u001b[0;32m    705\u001b[0m \u001b[39mself\u001b[39m\u001b[39m.\u001b[39mplot_data \u001b[39m=\u001b[39m plot_data\n\u001b[0;32m    706\u001b[0m \u001b[39mself\u001b[39m\u001b[39m.\u001b[39mvariables \u001b[39m=\u001b[39m variables\n",
      "File \u001b[1;32mc:\\Users\\lucas\\miniconda3\\envs\\env_spatial\\lib\\site-packages\\seaborn\\_oldcore.py:962\u001b[0m, in \u001b[0;36mVectorPlotter._assign_variables_longform\u001b[1;34m(self, data, **kwargs)\u001b[0m\n\u001b[0;32m    958\u001b[0m         variables[key] \u001b[39m=\u001b[39m \u001b[39mgetattr\u001b[39m(val, \u001b[39m\"\u001b[39m\u001b[39mname\u001b[39m\u001b[39m\"\u001b[39m, \u001b[39mNone\u001b[39;00m)\n\u001b[0;32m    960\u001b[0m \u001b[39m# Construct a tidy plot DataFrame. This will convert a number of\u001b[39;00m\n\u001b[0;32m    961\u001b[0m \u001b[39m# types automatically, aligning on index in case of pandas objects\u001b[39;00m\n\u001b[1;32m--> 962\u001b[0m plot_data \u001b[39m=\u001b[39m pd\u001b[39m.\u001b[39;49mDataFrame(plot_data)\n\u001b[0;32m    964\u001b[0m \u001b[39m# Reduce the variables dictionary to fields with valid data\u001b[39;00m\n\u001b[0;32m    965\u001b[0m variables \u001b[39m=\u001b[39m {\n\u001b[0;32m    966\u001b[0m     var: name\n\u001b[0;32m    967\u001b[0m     \u001b[39mfor\u001b[39;00m var, name \u001b[39min\u001b[39;00m variables\u001b[39m.\u001b[39mitems()\n\u001b[0;32m    968\u001b[0m     \u001b[39mif\u001b[39;00m plot_data[var]\u001b[39m.\u001b[39mnotnull()\u001b[39m.\u001b[39many()\n\u001b[0;32m    969\u001b[0m }\n",
      "File \u001b[1;32mc:\\Users\\lucas\\miniconda3\\envs\\env_spatial\\lib\\site-packages\\pandas\\core\\frame.py:636\u001b[0m, in \u001b[0;36mDataFrame.__init__\u001b[1;34m(self, data, index, columns, dtype, copy)\u001b[0m\n\u001b[0;32m    630\u001b[0m     mgr \u001b[39m=\u001b[39m \u001b[39mself\u001b[39m\u001b[39m.\u001b[39m_init_mgr(\n\u001b[0;32m    631\u001b[0m         data, axes\u001b[39m=\u001b[39m{\u001b[39m\"\u001b[39m\u001b[39mindex\u001b[39m\u001b[39m\"\u001b[39m: index, \u001b[39m\"\u001b[39m\u001b[39mcolumns\u001b[39m\u001b[39m\"\u001b[39m: columns}, dtype\u001b[39m=\u001b[39mdtype, copy\u001b[39m=\u001b[39mcopy\n\u001b[0;32m    632\u001b[0m     )\n\u001b[0;32m    634\u001b[0m \u001b[39melif\u001b[39;00m \u001b[39misinstance\u001b[39m(data, \u001b[39mdict\u001b[39m):\n\u001b[0;32m    635\u001b[0m     \u001b[39m# GH#38939 de facto copy defaults to False only in non-dict cases\u001b[39;00m\n\u001b[1;32m--> 636\u001b[0m     mgr \u001b[39m=\u001b[39m dict_to_mgr(data, index, columns, dtype\u001b[39m=\u001b[39;49mdtype, copy\u001b[39m=\u001b[39;49mcopy, typ\u001b[39m=\u001b[39;49mmanager)\n\u001b[0;32m    637\u001b[0m \u001b[39melif\u001b[39;00m \u001b[39misinstance\u001b[39m(data, ma\u001b[39m.\u001b[39mMaskedArray):\n\u001b[0;32m    638\u001b[0m     \u001b[39mimport\u001b[39;00m \u001b[39mnumpy\u001b[39;00m\u001b[39m.\u001b[39;00m\u001b[39mma\u001b[39;00m\u001b[39m.\u001b[39;00m\u001b[39mmrecords\u001b[39;00m \u001b[39mas\u001b[39;00m \u001b[39mmrecords\u001b[39;00m\n",
      "File \u001b[1;32mc:\\Users\\lucas\\miniconda3\\envs\\env_spatial\\lib\\site-packages\\pandas\\core\\internals\\construction.py:502\u001b[0m, in \u001b[0;36mdict_to_mgr\u001b[1;34m(data, index, columns, dtype, typ, copy)\u001b[0m\n\u001b[0;32m    494\u001b[0m     arrays \u001b[39m=\u001b[39m [\n\u001b[0;32m    495\u001b[0m         x\n\u001b[0;32m    496\u001b[0m         \u001b[39mif\u001b[39;00m \u001b[39mnot\u001b[39;00m \u001b[39mhasattr\u001b[39m(x, \u001b[39m\"\u001b[39m\u001b[39mdtype\u001b[39m\u001b[39m\"\u001b[39m) \u001b[39mor\u001b[39;00m \u001b[39mnot\u001b[39;00m \u001b[39misinstance\u001b[39m(x\u001b[39m.\u001b[39mdtype, ExtensionDtype)\n\u001b[0;32m    497\u001b[0m         \u001b[39melse\u001b[39;00m x\u001b[39m.\u001b[39mcopy()\n\u001b[0;32m    498\u001b[0m         \u001b[39mfor\u001b[39;00m x \u001b[39min\u001b[39;00m arrays\n\u001b[0;32m    499\u001b[0m     ]\n\u001b[0;32m    500\u001b[0m     \u001b[39m# TODO: can we get rid of the dt64tz special case above?\u001b[39;00m\n\u001b[1;32m--> 502\u001b[0m \u001b[39mreturn\u001b[39;00m arrays_to_mgr(arrays, columns, index, dtype\u001b[39m=\u001b[39;49mdtype, typ\u001b[39m=\u001b[39;49mtyp, consolidate\u001b[39m=\u001b[39;49mcopy)\n",
      "File \u001b[1;32mc:\\Users\\lucas\\miniconda3\\envs\\env_spatial\\lib\\site-packages\\pandas\\core\\internals\\construction.py:120\u001b[0m, in \u001b[0;36marrays_to_mgr\u001b[1;34m(arrays, columns, index, dtype, verify_integrity, typ, consolidate)\u001b[0m\n\u001b[0;32m    117\u001b[0m \u001b[39mif\u001b[39;00m verify_integrity:\n\u001b[0;32m    118\u001b[0m     \u001b[39m# figure out the index, if necessary\u001b[39;00m\n\u001b[0;32m    119\u001b[0m     \u001b[39mif\u001b[39;00m index \u001b[39mis\u001b[39;00m \u001b[39mNone\u001b[39;00m:\n\u001b[1;32m--> 120\u001b[0m         index \u001b[39m=\u001b[39m _extract_index(arrays)\n\u001b[0;32m    121\u001b[0m     \u001b[39melse\u001b[39;00m:\n\u001b[0;32m    122\u001b[0m         index \u001b[39m=\u001b[39m ensure_index(index)\n",
      "File \u001b[1;32mc:\\Users\\lucas\\miniconda3\\envs\\env_spatial\\lib\\site-packages\\pandas\\core\\internals\\construction.py:661\u001b[0m, in \u001b[0;36m_extract_index\u001b[1;34m(data)\u001b[0m\n\u001b[0;32m    659\u001b[0m         raw_lengths\u001b[39m.\u001b[39mappend(\u001b[39mlen\u001b[39m(val))\n\u001b[0;32m    660\u001b[0m     \u001b[39melif\u001b[39;00m \u001b[39misinstance\u001b[39m(val, np\u001b[39m.\u001b[39mndarray) \u001b[39mand\u001b[39;00m val\u001b[39m.\u001b[39mndim \u001b[39m>\u001b[39m \u001b[39m1\u001b[39m:\n\u001b[1;32m--> 661\u001b[0m         \u001b[39mraise\u001b[39;00m \u001b[39mValueError\u001b[39;00m(\u001b[39m\"\u001b[39m\u001b[39mPer-column arrays must each be 1-dimensional\u001b[39m\u001b[39m\"\u001b[39m)\n\u001b[0;32m    663\u001b[0m \u001b[39mif\u001b[39;00m \u001b[39mnot\u001b[39;00m indexes \u001b[39mand\u001b[39;00m \u001b[39mnot\u001b[39;00m raw_lengths:\n\u001b[0;32m    664\u001b[0m     \u001b[39mraise\u001b[39;00m \u001b[39mValueError\u001b[39;00m(\u001b[39m\"\u001b[39m\u001b[39mIf using all scalar values, you must pass an index\u001b[39m\u001b[39m\"\u001b[39m)\n",
      "\u001b[1;31mValueError\u001b[0m: Per-column arrays must each be 1-dimensional"
     ]
    },
    {
     "data": {
      "text/plain": [
       "<Figure size 864x576 with 0 Axes>"
      ]
     },
     "metadata": {},
     "output_type": "display_data"
    }
   ],
   "source": [
    "plot_linear_model_pair(df_jura, \"vlCadmium\", \"vlZinc\")"
   ]
  },
  {
   "cell_type": "code",
   "execution_count": null,
   "metadata": {},
   "outputs": [
    {
     "data": {
      "text/plain": [
       "['vlCadmium', 'vlCobalt', 'vlChromium', 'vlNickel', 'vlLead', 'vlZinc']"
      ]
     },
     "execution_count": 15,
     "metadata": {},
     "output_type": "execute_result"
    }
   ],
   "source": [
    "grade_features.remove('descUnit')\n",
    "grade_features"
   ]
  },
  {
   "cell_type": "code",
   "execution_count": null,
   "id": "8f3603a0",
   "metadata": {},
   "outputs": [
    {
     "data": {
      "text/plain": [
       "{'model': LinearRegression(),\n",
       " 'element': 'vlNickel',\n",
       " 'score': 0.7379665282676895,\n",
       " 'pred': array([ 6.68413626,  7.16045423,  8.10315763,  8.35113888, 17.53168175,\n",
       "         9.62014989,  6.51113883,  6.59962391, 10.73211176,  5.56934829,\n",
       "         5.65545421,  6.65877691, 14.20365434, 19.81615526,  6.98652154,\n",
       "         6.97595242,  7.01041014,  9.29597322,  6.69644477,  5.95625363,\n",
       "         8.1708807 ,  7.6468843 , 12.06032749,  7.25054516, 15.24014418,\n",
       "         8.15990672, 16.91517565,  7.67402964,  9.361945  , 13.10845346,\n",
       "         8.54165114,  5.4933088 ,  9.27183828, 16.01637316, 15.93011308,\n",
       "        17.34681799, 13.37890977, 10.37983782, 12.38689242,  8.14569711,\n",
       "        22.26956457,  8.4619326 , 13.89180356, 17.56341374, 24.32281599,\n",
       "        17.91138602, 12.01851752, 15.29106661, 19.23786586, 11.24897607,\n",
       "        17.36500323, 13.92288978, 21.01292095, 12.16637871, 17.48280995,\n",
       "        11.75615758, 12.5192524 , 23.61603592,  8.38649946, 15.05051891,\n",
       "        21.91384081,  8.25728838, 21.32240657,  7.40104851, 20.40614735,\n",
       "         8.48772359, 15.2839904 , 21.85807042,  9.44516227, 22.15847482,\n",
       "        20.38713976, 22.37447364, 17.81185931, 17.5989514 , 20.11576571,\n",
       "        24.28644761,  9.24050533, 13.76424953, 23.46458977, 13.36926691,\n",
       "        23.9721727 , 24.74511786, 22.27421516, 17.29251505, 18.12620763,\n",
       "        24.00944287, 26.63717971, 10.94264616, 18.7207164 , 19.21028801,\n",
       "        23.80251458, 14.74482616, 25.43064488, 23.73923051, 16.98179802,\n",
       "        23.26717251, 17.51267109, 21.38706328, 20.59861946, 24.5861293 ,\n",
       "        13.06068696, 18.59789451, 25.35574578, 26.11241654, 21.15208856,\n",
       "        22.85139809, 23.82179783, 19.96918068, 21.62879938, 25.6142533 ,\n",
       "        20.13380972, 20.74204423, 25.58725685, 21.90562789, 25.47599778,\n",
       "        22.53359955, 19.28075851, 25.59961362, 18.94451127, 22.01293205,\n",
       "        21.36388545, 16.69764589, 21.49263526, 23.92858591, 29.62048449,\n",
       "        18.03909506, 24.22072727, 16.16041986, 25.34184511, 27.00874269,\n",
       "        22.65669844,  8.42425374, 14.10514771, 22.18068126, 23.05918981,\n",
       "        28.18846335, 18.63686446, 22.12803768, 28.00656903, 21.10289461,\n",
       "        19.67561036, 22.69283443, 24.11687651,  3.64272094, 23.63720415,\n",
       "        27.42887318, 22.27967125, 25.86535306,  4.73031058, 15.81627849,\n",
       "        22.51644458, 22.28713767,  4.30974058, 18.77122161, 23.20063382,\n",
       "        26.18447016, 27.11035986, 22.161452  , 21.62158191, 24.66079677,\n",
       "        26.69732721,  9.26330941, 29.52078974, 27.65842706, 30.30312446,\n",
       "        31.43466759, 12.62159539, 28.86373882, 20.68086439, 26.85381709,\n",
       "        24.35867237, 29.89538839, 23.75909247, 22.07413475, 22.55172481,\n",
       "        31.02573515, 26.42127355, 25.93817457,  9.744598  , 24.14503382,\n",
       "        29.64550806, 21.89843098, 24.29119768, 23.89470311, 19.57774051,\n",
       "        28.18590754, 28.58518046, 22.62759549, 21.6049575 , 26.09286167,\n",
       "        30.83840816, 25.85929773, 14.69708818, 23.50965748, 23.74953068,\n",
       "        10.55497811, 16.3663821 , 28.97409707, 23.20852911, 22.81690196,\n",
       "        28.01499168, 28.08242236, 29.50469172, 22.06848222, 10.20848777,\n",
       "        21.17821569, 29.9182618 , 18.23410377, 29.26718958, 29.36701969,\n",
       "        23.44154275, 20.98769965, 24.80551947, 25.48770788, 14.91663665,\n",
       "        25.56454706, 24.02657389, 23.29862125, 30.0353132 , 21.15462067,\n",
       "        21.9185529 , 26.14497794, 27.31171976, 24.66124767, 28.03282353,\n",
       "        16.45078187, 30.35301388, 25.54682787, 29.60150174, 18.92733375,\n",
       "        26.91619603, 17.0552057 , 25.35626566, 23.38338537, 24.89673735,\n",
       "        22.62411941, 27.64500765, 27.30680357, 28.99736651, 28.67803524,\n",
       "        35.0444907 , 30.16621189, 26.41626327, 24.75365832, 25.59120563,\n",
       "        25.26218225, 25.16039803, 27.39746508, 26.81910435, 24.90706146,\n",
       "        23.96545954]),\n",
       " 'params': {'copy_X': True,\n",
       "  'fit_intercept': True,\n",
       "  'n_jobs': None,\n",
       "  'normalize': 'deprecated',\n",
       "  'positive': False}}"
      ]
     },
     "execution_count": 18,
     "metadata": {},
     "output_type": "execute_result"
    }
   ],
   "source": [
    "def linear_model_multiple (df, grade_features, y_elem):\n",
    "  \n",
    "  # Regressor\n",
    "  reg = LinearRegression()\n",
    "  \n",
    "  grade_x = grade_features.copy()\n",
    "  grade_x.remove(y_elem)\n",
    "\n",
    "  xm = df[grade_x].values\n",
    "  ym = df[y_elem].values\n",
    "\n",
    "  reg.fit(X=xm, y=ym)\n",
    "  score = reg.score(X=xm, y=ym)\n",
    "  y_pred = reg.predict(xm)\n",
    "\n",
    "  model_dict = {\n",
    "    'model': reg,\n",
    "    'element':y_elem,\n",
    "    'score': score, \n",
    "    'pred': y_pred,\n",
    "    'params': reg.get_params()\n",
    "  }\n",
    "\n",
    "  return model_dict\n",
    "\n",
    "model = linear_model_multiple(df_jura, grade_features, 'vlNickel')\n",
    "model"
   ]
  },
  {
   "cell_type": "code",
   "execution_count": null,
   "id": "4d00ad58",
   "metadata": {},
   "outputs": [
    {
     "ename": "NameError",
     "evalue": "name 'plot_linear_model_multiple' is not defined",
     "output_type": "error",
     "traceback": [
      "\u001b[1;31m---------------------------------------------------------------------------\u001b[0m",
      "\u001b[1;31mNameError\u001b[0m                                 Traceback (most recent call last)",
      "\u001b[1;32mc:\\Users\\lucas\\Documents\\code\\workflows-geoestatistica-data\\modulo_2\\modulo_2.ipynb Cell 20\u001b[0m in \u001b[0;36m<cell line: 1>\u001b[1;34m()\u001b[0m\n\u001b[0;32m      <a href='vscode-notebook-cell:/c%3A/Users/lucas/Documents/code/workflows-geoestatistica-data/modulo_2/modulo_2.ipynb#X25sZmlsZQ%3D%3D?line=0'>1</a>\u001b[0m \u001b[39mfor\u001b[39;00m a \u001b[39min\u001b[39;00m grade_features:\n\u001b[1;32m----> <a href='vscode-notebook-cell:/c%3A/Users/lucas/Documents/code/workflows-geoestatistica-data/modulo_2/modulo_2.ipynb#X25sZmlsZQ%3D%3D?line=1'>2</a>\u001b[0m   \u001b[39mprint\u001b[39m(plot_linear_model_multiple(df_jura,a))\n",
      "\u001b[1;31mNameError\u001b[0m: name 'plot_linear_model_multiple' is not defined"
     ]
    }
   ],
   "source": [
    "for a in grade_features:\n",
    "  print(plot_linear_model_multiple(df_jura,a))"
   ]
  }
 ],
 "metadata": {
  "kernelspec": {
   "display_name": "Python 3 (ipykernel)",
   "language": "python",
   "name": "python3"
  },
  "language_info": {
   "codemirror_mode": {
    "name": "ipython",
    "version": 3
   },
   "file_extension": ".py",
   "mimetype": "text/x-python",
   "name": "python",
   "nbconvert_exporter": "python",
   "pygments_lexer": "ipython3",
   "version": "3.10.4"
  }
 },
 "nbformat": 4,
 "nbformat_minor": 5
}
