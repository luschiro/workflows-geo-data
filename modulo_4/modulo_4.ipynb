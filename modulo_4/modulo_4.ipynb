{
 "cells": [
  {
   "cell_type": "markdown",
   "id": "d3a659df-371f-4049-a7b1-c9ddfe5affc1",
   "metadata": {},
   "source": [
    "# Workflows de Análise de Dados e Geoestatística\n",
    "\n",
    "## Módulo 4 - Construindo um Model de Árvore\n",
    "\n",
    "O objetivo deste módulo e criar um modelo linear (regressão linear simples e múltipla)"
   ]
  },
  {
   "cell_type": "markdown",
   "id": "6d679845",
   "metadata": {},
   "source": [
    "### Imports"
   ]
  },
  {
   "cell_type": "code",
   "execution_count": null,
   "id": "0c4ddc5c-db8a-4c62-aa73-226447020f75",
   "metadata": {},
   "outputs": [],
   "source": [
    "# paths\n",
    "import os\n",
    "\n",
    "# pandas\n",
    "import pandas as pd\n",
    "import numpy as np\n",
    "\n",
    "# data viz\n",
    "import seaborn as sns\n",
    "import matplotlib.pyplot as plt\n",
    "\n",
    "# model\n",
    "from sklearn.model_selection import train_test_split\n",
    "from sklearn.tree import DecisionTreeClassifier\n",
    "\n",
    "# metrics\n",
    "from sklearn.metrics import precision_score\n",
    "from sklearn.metrics import accuracy_score\n",
    "from sklearn.metrics import recall_score\n",
    "from sklearn.metrics import f1_score\n",
    "\n",
    "from sklearn.metrics import roc_auc_score\n",
    "from sklearn.metrics import roc_curve\n"
   ]
  },
  {
   "cell_type": "code",
   "execution_count": null,
   "id": "034a5863",
   "metadata": {},
   "outputs": [],
   "source": [
    "# configuring plots of seaborn\n",
    "sns.set_style(\"ticks\", {'axes.grid':False})\n",
    "sns.set_context(\"talk\") "
   ]
  },
  {
   "cell_type": "markdown",
   "id": "c6d3b639",
   "metadata": {},
   "source": [
    "### Helper functions"
   ]
  },
  {
   "cell_type": "code",
   "execution_count": null,
   "id": "3123270e-85eb-4e33-8cab-f5a5e4c51e44",
   "metadata": {
    "tags": []
   },
   "outputs": [],
   "source": [
    "# directories\n",
    "def get_directories():\n",
    "    # getting working paths\n",
    "    CURRENT_DIR = os.path.dirname(os.path.realpath('__file__'))\n",
    "    PARENT_DIR = os.path.dirname(CURRENT_DIR)\n",
    "    #QUERY_DIR = os.path.join(CURRENT_DIR, 'queries')\n",
    "    DATA_DIR = os.path.join(PARENT_DIR, 'data')\n",
    "    \n",
    "    dirs = {\n",
    "        \"CURRENT_DIR\" : CURRENT_DIR,\n",
    "        \"PARENT_DIR\" : PARENT_DIR,\n",
    "        #\"QUERY_DIR\" : QUERY_DIR,\n",
    "        \"DATA_DIR\" : DATA_DIR\n",
    "    }\n",
    "\n",
    "    return (dirs)\n",
    "\n",
    "\n",
    "# metadados sobre dataframe\n",
    "def meta_df(df):\n",
    "    return pd.DataFrame({'dtypes': df.dtypes,\n",
    "                         'nmissing': df.isna().sum(),\n",
    "                         'missing%': round(df.isna().sum()/df.shape[0]*100, 2),\n",
    "                         'nunique': df.nunique(),\n",
    "                         'nunique%': round(df.nunique()/df.shape[0]*100, 2),\n",
    "                         'size': df.shape[0]}, index = df.columns)"
   ]
  },
  {
   "cell_type": "code",
   "execution_count": null,
   "id": "9c150a88",
   "metadata": {},
   "outputs": [],
   "source": [
    "get_directories()"
   ]
  },
  {
   "cell_type": "code",
   "execution_count": null,
   "id": "2bd03cb6-10eb-4d4d-8a25-fd0051fe0bbf",
   "metadata": {},
   "outputs": [],
   "source": [
    "# importing data\n",
    "\n",
    "data_dirs = get_directories()\n",
    "df_jura = pd.read_csv(os.path.join(data_dirs[\"DATA_DIR\"],\"silver_jura.csv\"))\n",
    "df_jura.head(10)"
   ]
  },
  {
   "cell_type": "code",
   "execution_count": null,
   "metadata": {},
   "outputs": [],
   "source": [
    "meta_df(df_jura)"
   ]
  },
  {
   "cell_type": "code",
   "execution_count": null,
   "id": "db93a701",
   "metadata": {},
   "outputs": [],
   "source": [
    "grade_features = [\"vlCadmium\", \"vlCobalt\", \"vlChromium\", \"vlNickel\", \"vlLead\", \"vlZinc\"]"
   ]
  },
  {
   "cell_type": "code",
   "execution_count": null,
   "metadata": {},
   "outputs": [],
   "source": [
    "plt.figure(figsize=(10,8))\n",
    "sns.barplot(x=df_jura['descUnit'], y=df_jura['vlCobalt'], color='darkslategray')\n",
    "sns.despine()\n",
    "plt.show()"
   ]
  },
  {
   "cell_type": "markdown",
   "metadata": {},
   "source": [
    "#### Tree model"
   ]
  },
  {
   "cell_type": "code",
   "execution_count": null,
   "metadata": {},
   "outputs": [],
   "source": [
    "# train - test split\n",
    "X_train, X_test, y_train, y_test = train_test_split(df_jura[grade_features], df_jura['descUnit'], random_state=1, test_size=.27)\n",
    "\n",
    "y_train = y_train.map(lambda x: 0 if x != 'argoviano' else 1)\n",
    "y_test = y_test.map(lambda x: 0 if x != 'argoviano' else 1)\n",
    "\n",
    "print(X_train.shape,y_train.shape)\n",
    "print(X_test.shape,y_test.shape)"
   ]
  },
  {
   "cell_type": "code",
   "execution_count": null,
   "metadata": {},
   "outputs": [],
   "source": [
    "clf = DecisionTreeClassifier()\n",
    "clf.fit(X=X_train, y=y_train)\n",
    "\n",
    "y_pred = clf.predict(X=X_test)\n",
    "y_pred"
   ]
  },
  {
   "cell_type": "code",
   "execution_count": null,
   "metadata": {},
   "outputs": [],
   "source": []
  },
  {
   "cell_type": "code",
   "execution_count": null,
   "metadata": {},
   "outputs": [],
   "source": [
    "# how many we got it right?\n",
    "print(accuracy_score(y_test, y_pred))\n",
    "\n",
    "# tp / tp + fp -> from retrieved samples, how many are relevant? \n",
    "print(precision_score(y_test, y_pred))\n",
    "\n",
    "# tp / tp + fn -> how many relevant samples are retrieved?\n",
    "print(recall_score(y_test, y_pred))\n",
    "\n",
    "\n",
    "print(f1_score(y_test, y_pred))"
   ]
  },
  {
   "cell_type": "code",
   "execution_count": null,
   "metadata": {},
   "outputs": [],
   "source": [
    "fpr, tpr, tr = roc_curve(y_test, y_pred)"
   ]
  },
  {
   "cell_type": "code",
   "execution_count": null,
   "metadata": {},
   "outputs": [],
   "source": [
    "sns.lineplot(x=fpr, y=tpr)"
   ]
  },
  {
   "cell_type": "code",
   "execution_count": null,
   "metadata": {},
   "outputs": [],
   "source": [
    "y_pred"
   ]
  },
  {
   "cell_type": "code",
   "execution_count": null,
   "metadata": {},
   "outputs": [],
   "source": [
    "y_test"
   ]
  }
 ],
 "metadata": {
  "kernelspec": {
   "display_name": "Python 3 (ipykernel)",
   "language": "python",
   "name": "python3"
  },
  "language_info": {
   "codemirror_mode": {
    "name": "ipython",
    "version": 3
   },
   "file_extension": ".py",
   "mimetype": "text/x-python",
   "name": "python",
   "nbconvert_exporter": "python",
   "pygments_lexer": "ipython3",
   "version": "3.10.4"
  }
 },
 "nbformat": 4,
 "nbformat_minor": 5
}
