{
 "cells": [
  {
   "cell_type": "markdown",
   "id": "d3a659df-371f-4049-a7b1-c9ddfe5affc1",
   "metadata": {},
   "source": [
    "# Workflows de Análise de Dados e Geoestatística\n",
    "\n",
    "## Módulo 3 - Criando Modelos Lineares\n",
    "\n",
    "O objetivo deste módulo e criar um modelo linear (regressão linear simples e múltipla)"
   ]
  },
  {
   "cell_type": "markdown",
   "id": "6d679845",
   "metadata": {},
   "source": [
    "### Imports"
   ]
  },
  {
   "cell_type": "code",
   "execution_count": 1,
   "id": "0c4ddc5c-db8a-4c62-aa73-226447020f75",
   "metadata": {},
   "outputs": [],
   "source": [
    "# paths\n",
    "import os\n",
    "\n",
    "# pandas\n",
    "import pandas as pd\n",
    "\n",
    "# data viz\n",
    "import plotly\n",
    "import plotly.express as px\n",
    "import seaborn as sns\n",
    "import matplotlib.pyplot as plt"
   ]
  },
  {
   "cell_type": "code",
   "execution_count": 2,
   "id": "034a5863",
   "metadata": {},
   "outputs": [],
   "source": [
    "# configuring plots of seaborn\n",
    "sns.set_style(\"ticks\", {'axes.grid':False})\n",
    "sns.set_context(\"notebook\", font_scale=1.5)"
   ]
  },
  {
   "cell_type": "markdown",
   "id": "c6d3b639",
   "metadata": {},
   "source": [
    "### Helper functions"
   ]
  },
  {
   "cell_type": "code",
   "execution_count": 3,
   "id": "3123270e-85eb-4e33-8cab-f5a5e4c51e44",
   "metadata": {
    "tags": []
   },
   "outputs": [],
   "source": [
    "# directories\n",
    "def get_directories():\n",
    "    # getting working paths\n",
    "    CURRENT_DIR = os.path.dirname(os.path.realpath('__file__'))\n",
    "    PARENT_DIR = os.path.dirname(CURRENT_DIR)\n",
    "    #QUERY_DIR = os.path.join(CURRENT_DIR, 'queries')\n",
    "    DATA_DIR = os.path.join(PARENT_DIR, 'data')\n",
    "    \n",
    "    dirs = {\n",
    "        \"CURRENT_DIR\" : CURRENT_DIR,\n",
    "        \"PARENT_DIR\" : PARENT_DIR,\n",
    "        #\"QUERY_DIR\" : QUERY_DIR,\n",
    "        \"DATA_DIR\" : DATA_DIR\n",
    "    }\n",
    "\n",
    "    return (dirs)\n",
    "\n",
    "\n",
    "# metadados sobre dataframe\n",
    "def meta_df(df):\n",
    "    return pd.DataFrame({'dtypes': df.dtypes,\n",
    "                         'nmissing': df.isna().sum(),\n",
    "                         'missing%': round(df.isna().sum()/df.shape[0]*100, 2),\n",
    "                         'nunique': df.nunique(),\n",
    "                         'nunique%': round(df.nunique()/df.shape[0]*100, 2),\n",
    "                         'size': df.shape[0]}, index = df.columns)"
   ]
  },
  {
   "cell_type": "code",
   "execution_count": 4,
   "id": "9c150a88",
   "metadata": {},
   "outputs": [
    {
     "data": {
      "text/plain": [
       "{'CURRENT_DIR': 'C:\\\\Users\\\\lucas\\\\Documents\\\\code\\\\workflows-geoestatistica-data\\\\modulo_3',\n",
       " 'PARENT_DIR': 'C:\\\\Users\\\\lucas\\\\Documents\\\\code\\\\workflows-geoestatistica-data',\n",
       " 'DATA_DIR': 'C:\\\\Users\\\\lucas\\\\Documents\\\\code\\\\workflows-geoestatistica-data\\\\data'}"
      ]
     },
     "execution_count": 4,
     "metadata": {},
     "output_type": "execute_result"
    }
   ],
   "source": [
    "get_directories()"
   ]
  },
  {
   "cell_type": "code",
   "execution_count": 5,
   "id": "2bd03cb6-10eb-4d4d-8a25-fd0051fe0bbf",
   "metadata": {},
   "outputs": [
    {
     "data": {
      "text/html": [
       "<div>\n",
       "<style scoped>\n",
       "    .dataframe tbody tr th:only-of-type {\n",
       "        vertical-align: middle;\n",
       "    }\n",
       "\n",
       "    .dataframe tbody tr th {\n",
       "        vertical-align: top;\n",
       "    }\n",
       "\n",
       "    .dataframe thead th {\n",
       "        text-align: right;\n",
       "    }\n",
       "</style>\n",
       "<table border=\"1\" class=\"dataframe\">\n",
       "  <thead>\n",
       "    <tr style=\"text-align: right;\">\n",
       "      <th></th>\n",
       "      <th>vlLocX</th>\n",
       "      <th>vlLocY</th>\n",
       "      <th>descLanduse</th>\n",
       "      <th>descUnit</th>\n",
       "      <th>vlCadmium</th>\n",
       "      <th>vlCobalt</th>\n",
       "      <th>vlChromium</th>\n",
       "      <th>vlNickel</th>\n",
       "      <th>vlLead</th>\n",
       "      <th>vlZinc</th>\n",
       "      <th>status</th>\n",
       "      <th>rankCadmium</th>\n",
       "      <th>rankCobalt</th>\n",
       "      <th>rankChromium</th>\n",
       "      <th>rankNickel</th>\n",
       "      <th>rankPb</th>\n",
       "      <th>rankZn</th>\n",
       "      <th>descAnomalyZn</th>\n",
       "    </tr>\n",
       "  </thead>\n",
       "  <tbody>\n",
       "    <tr>\n",
       "      <th>0</th>\n",
       "      <td>1.932</td>\n",
       "      <td>1.004</td>\n",
       "      <td>campo</td>\n",
       "      <td>argoviano</td>\n",
       "      <td>0.135</td>\n",
       "      <td>4.520</td>\n",
       "      <td>15.08</td>\n",
       "      <td>5.24</td>\n",
       "      <td>37.00</td>\n",
       "      <td>32.56</td>\n",
       "      <td>NaN</td>\n",
       "      <td>0.00</td>\n",
       "      <td>0.14</td>\n",
       "      <td>0.02</td>\n",
       "      <td>0.03</td>\n",
       "      <td>0.28</td>\n",
       "      <td>0.04</td>\n",
       "      <td>normal</td>\n",
       "    </tr>\n",
       "    <tr>\n",
       "      <th>1</th>\n",
       "      <td>1.824</td>\n",
       "      <td>0.999</td>\n",
       "      <td>campo</td>\n",
       "      <td>argoviano</td>\n",
       "      <td>0.165</td>\n",
       "      <td>3.752</td>\n",
       "      <td>18.60</td>\n",
       "      <td>7.08</td>\n",
       "      <td>56.40</td>\n",
       "      <td>44.00</td>\n",
       "      <td>NaN</td>\n",
       "      <td>0.00</td>\n",
       "      <td>0.07</td>\n",
       "      <td>0.06</td>\n",
       "      <td>0.07</td>\n",
       "      <td>0.68</td>\n",
       "      <td>0.12</td>\n",
       "      <td>normal</td>\n",
       "    </tr>\n",
       "    <tr>\n",
       "      <th>2</th>\n",
       "      <td>1.883</td>\n",
       "      <td>1.176</td>\n",
       "      <td>campo</td>\n",
       "      <td>argoviano</td>\n",
       "      <td>0.195</td>\n",
       "      <td>3.920</td>\n",
       "      <td>21.80</td>\n",
       "      <td>7.52</td>\n",
       "      <td>49.60</td>\n",
       "      <td>43.20</td>\n",
       "      <td>NaN</td>\n",
       "      <td>0.01</td>\n",
       "      <td>0.10</td>\n",
       "      <td>0.12</td>\n",
       "      <td>0.10</td>\n",
       "      <td>0.56</td>\n",
       "      <td>0.10</td>\n",
       "      <td>normal</td>\n",
       "    </tr>\n",
       "    <tr>\n",
       "      <th>3</th>\n",
       "      <td>1.837</td>\n",
       "      <td>1.037</td>\n",
       "      <td>campo</td>\n",
       "      <td>argoviano</td>\n",
       "      <td>0.215</td>\n",
       "      <td>3.880</td>\n",
       "      <td>23.00</td>\n",
       "      <td>8.16</td>\n",
       "      <td>46.80</td>\n",
       "      <td>44.00</td>\n",
       "      <td>NaN</td>\n",
       "      <td>0.01</td>\n",
       "      <td>0.09</td>\n",
       "      <td>0.14</td>\n",
       "      <td>0.11</td>\n",
       "      <td>0.51</td>\n",
       "      <td>0.12</td>\n",
       "      <td>normal</td>\n",
       "    </tr>\n",
       "    <tr>\n",
       "      <th>4</th>\n",
       "      <td>3.768</td>\n",
       "      <td>2.775</td>\n",
       "      <td>floresta</td>\n",
       "      <td>kimmeridgiano</td>\n",
       "      <td>0.220</td>\n",
       "      <td>10.800</td>\n",
       "      <td>26.32</td>\n",
       "      <td>17.52</td>\n",
       "      <td>31.88</td>\n",
       "      <td>45.20</td>\n",
       "      <td>NaN</td>\n",
       "      <td>0.02</td>\n",
       "      <td>0.60</td>\n",
       "      <td>0.20</td>\n",
       "      <td>0.37</td>\n",
       "      <td>0.11</td>\n",
       "      <td>0.14</td>\n",
       "      <td>normal</td>\n",
       "    </tr>\n",
       "    <tr>\n",
       "      <th>5</th>\n",
       "      <td>1.839</td>\n",
       "      <td>0.995</td>\n",
       "      <td>campo</td>\n",
       "      <td>argoviano</td>\n",
       "      <td>0.225</td>\n",
       "      <td>4.240</td>\n",
       "      <td>24.88</td>\n",
       "      <td>10.12</td>\n",
       "      <td>55.60</td>\n",
       "      <td>56.00</td>\n",
       "      <td>NaN</td>\n",
       "      <td>0.02</td>\n",
       "      <td>0.12</td>\n",
       "      <td>0.17</td>\n",
       "      <td>0.16</td>\n",
       "      <td>0.68</td>\n",
       "      <td>0.26</td>\n",
       "      <td>normal</td>\n",
       "    </tr>\n",
       "    <tr>\n",
       "      <th>6</th>\n",
       "      <td>2.537</td>\n",
       "      <td>3.768</td>\n",
       "      <td>campo</td>\n",
       "      <td>argoviano</td>\n",
       "      <td>0.230</td>\n",
       "      <td>3.792</td>\n",
       "      <td>18.20</td>\n",
       "      <td>5.68</td>\n",
       "      <td>26.84</td>\n",
       "      <td>32.08</td>\n",
       "      <td>NaN</td>\n",
       "      <td>0.02</td>\n",
       "      <td>0.08</td>\n",
       "      <td>0.04</td>\n",
       "      <td>0.05</td>\n",
       "      <td>0.04</td>\n",
       "      <td>0.03</td>\n",
       "      <td>normal</td>\n",
       "    </tr>\n",
       "    <tr>\n",
       "      <th>7</th>\n",
       "      <td>2.502</td>\n",
       "      <td>3.988</td>\n",
       "      <td>campo</td>\n",
       "      <td>argoviano</td>\n",
       "      <td>0.240</td>\n",
       "      <td>3.760</td>\n",
       "      <td>18.92</td>\n",
       "      <td>5.20</td>\n",
       "      <td>22.36</td>\n",
       "      <td>32.24</td>\n",
       "      <td>NaN</td>\n",
       "      <td>0.03</td>\n",
       "      <td>0.08</td>\n",
       "      <td>0.06</td>\n",
       "      <td>0.03</td>\n",
       "      <td>0.02</td>\n",
       "      <td>0.04</td>\n",
       "      <td>normal</td>\n",
       "    </tr>\n",
       "    <tr>\n",
       "      <th>8</th>\n",
       "      <td>1.842</td>\n",
       "      <td>0.989</td>\n",
       "      <td>campo</td>\n",
       "      <td>argoviano</td>\n",
       "      <td>0.240</td>\n",
       "      <td>4.520</td>\n",
       "      <td>27.96</td>\n",
       "      <td>11.32</td>\n",
       "      <td>52.40</td>\n",
       "      <td>56.40</td>\n",
       "      <td>NaN</td>\n",
       "      <td>0.03</td>\n",
       "      <td>0.14</td>\n",
       "      <td>0.26</td>\n",
       "      <td>0.20</td>\n",
       "      <td>0.62</td>\n",
       "      <td>0.26</td>\n",
       "      <td>normal</td>\n",
       "    </tr>\n",
       "    <tr>\n",
       "      <th>9</th>\n",
       "      <td>1.897</td>\n",
       "      <td>1.220</td>\n",
       "      <td>campo</td>\n",
       "      <td>argoviano</td>\n",
       "      <td>0.260</td>\n",
       "      <td>3.480</td>\n",
       "      <td>16.24</td>\n",
       "      <td>4.76</td>\n",
       "      <td>27.00</td>\n",
       "      <td>27.20</td>\n",
       "      <td>NaN</td>\n",
       "      <td>0.04</td>\n",
       "      <td>0.04</td>\n",
       "      <td>0.03</td>\n",
       "      <td>0.01</td>\n",
       "      <td>0.05</td>\n",
       "      <td>0.01</td>\n",
       "      <td>normal</td>\n",
       "    </tr>\n",
       "  </tbody>\n",
       "</table>\n",
       "</div>"
      ],
      "text/plain": [
       "   vlLocX  vlLocY descLanduse       descUnit  vlCadmium  vlCobalt  vlChromium  \\\n",
       "0   1.932   1.004       campo      argoviano      0.135     4.520       15.08   \n",
       "1   1.824   0.999       campo      argoviano      0.165     3.752       18.60   \n",
       "2   1.883   1.176       campo      argoviano      0.195     3.920       21.80   \n",
       "3   1.837   1.037       campo      argoviano      0.215     3.880       23.00   \n",
       "4   3.768   2.775    floresta  kimmeridgiano      0.220    10.800       26.32   \n",
       "5   1.839   0.995       campo      argoviano      0.225     4.240       24.88   \n",
       "6   2.537   3.768       campo      argoviano      0.230     3.792       18.20   \n",
       "7   2.502   3.988       campo      argoviano      0.240     3.760       18.92   \n",
       "8   1.842   0.989       campo      argoviano      0.240     4.520       27.96   \n",
       "9   1.897   1.220       campo      argoviano      0.260     3.480       16.24   \n",
       "\n",
       "   vlNickel  vlLead  vlZinc status  rankCadmium  rankCobalt  rankChromium  \\\n",
       "0      5.24   37.00   32.56    NaN         0.00        0.14          0.02   \n",
       "1      7.08   56.40   44.00    NaN         0.00        0.07          0.06   \n",
       "2      7.52   49.60   43.20    NaN         0.01        0.10          0.12   \n",
       "3      8.16   46.80   44.00    NaN         0.01        0.09          0.14   \n",
       "4     17.52   31.88   45.20    NaN         0.02        0.60          0.20   \n",
       "5     10.12   55.60   56.00    NaN         0.02        0.12          0.17   \n",
       "6      5.68   26.84   32.08    NaN         0.02        0.08          0.04   \n",
       "7      5.20   22.36   32.24    NaN         0.03        0.08          0.06   \n",
       "8     11.32   52.40   56.40    NaN         0.03        0.14          0.26   \n",
       "9      4.76   27.00   27.20    NaN         0.04        0.04          0.03   \n",
       "\n",
       "   rankNickel  rankPb  rankZn descAnomalyZn  \n",
       "0        0.03    0.28    0.04        normal  \n",
       "1        0.07    0.68    0.12        normal  \n",
       "2        0.10    0.56    0.10        normal  \n",
       "3        0.11    0.51    0.12        normal  \n",
       "4        0.37    0.11    0.14        normal  \n",
       "5        0.16    0.68    0.26        normal  \n",
       "6        0.05    0.04    0.03        normal  \n",
       "7        0.03    0.02    0.04        normal  \n",
       "8        0.20    0.62    0.26        normal  \n",
       "9        0.01    0.05    0.01        normal  "
      ]
     },
     "execution_count": 5,
     "metadata": {},
     "output_type": "execute_result"
    }
   ],
   "source": [
    "# importing data\n",
    "\n",
    "data_dirs = get_directories()\n",
    "df_jura = pd.read_csv(os.path.join(data_dirs[\"DATA_DIR\"],\"silver_jura.csv\"))\n",
    "df_jura.head(10)"
   ]
  },
  {
   "cell_type": "code",
   "execution_count": 6,
   "id": "db93a701",
   "metadata": {},
   "outputs": [
    {
     "data": {
      "text/plain": [
       "['vlCadmium',\n",
       " 'vlCobalt',\n",
       " 'vlChromium',\n",
       " 'vlNickel',\n",
       " 'vlLead',\n",
       " 'vlZinc',\n",
       " 'descUnit']"
      ]
     },
     "execution_count": 6,
     "metadata": {},
     "output_type": "execute_result"
    }
   ],
   "source": [
    "grade_features = [\"vlCadmium\", \"vlCobalt\", \"vlChromium\", \"vlNickel\", \"vlLead\", \"vlZinc\", \"descUnit\"]\n",
    "grade_features"
   ]
  },
  {
   "cell_type": "markdown",
   "id": "ac99eca5",
   "metadata": {},
   "source": [
    "#### Creating linear models"
   ]
  },
  {
   "cell_type": "code",
   "execution_count": 7,
   "id": "16297d72",
   "metadata": {},
   "outputs": [],
   "source": [
    "from sklearn.linear_model import LinearRegression\n",
    "import numpy as np\n",
    "#import plotly.graph_objects as go"
   ]
  },
  {
   "cell_type": "code",
   "execution_count": 8,
   "id": "d7c3a18b",
   "metadata": {},
   "outputs": [
    {
     "data": {
      "text/plain": [
       "{'copy_X': True,\n",
       " 'fit_intercept': True,\n",
       " 'n_jobs': None,\n",
       " 'normalize': 'deprecated',\n",
       " 'positive': False,\n",
       " 'X': 'vlCadmium',\n",
       " 'Y': 'vlZinc',\n",
       " 'coef': 20.925923239458072}"
      ]
     },
     "execution_count": 8,
     "metadata": {},
     "output_type": "execute_result"
    },
    {
     "data": {
      "image/png": "[encoded data removed]",
      "text/plain": [
       "<Figure size 720x432 with 1 Axes>"
      ]
     },
     "metadata": {
      "needs_background": "light"
     },
     "output_type": "display_data"
    }
   ],
   "source": [
    "def linear_model_pair (df, x_elem, y_elem):\n",
    "\n",
    "  # objeto Regressor\n",
    "  reg = LinearRegression()\n",
    "\n",
    "  xm = df[x_elem].values[:,np.newaxis]\n",
    "  xm_plot = [a[0] for a in xm]\n",
    "  ym = df[y_elem].values\n",
    "\n",
    "  # fit and predict\n",
    "  reg.fit(X=xm, y=ym)\n",
    "  line = reg.predict(xm)\n",
    "  \n",
    "  # model info\n",
    "  model_dict = reg.get_params()\n",
    "  model_dict['X'], model_dict['Y'] = x_elem, y_elem\n",
    "  model_dict['coef'] = reg.coef_[0]\n",
    "\n",
    "\n",
    "  # plotting\n",
    "  plt.figure(figsize=(10,6))\n",
    "  sns.scatterplot(x=xm_plot, y=ym[:])\n",
    "  p = sns.lineplot(x=xm_plot, y=line)\n",
    "\n",
    "  p.set_title(f\"{x_elem} x {y_elem} linear model\", fontsize=24)\n",
    "  p.set_xlabel(x_elem, fontsize=16)\n",
    "  p.set_ylabel(y_elem, fontsize=16)\n",
    "  plt.text(min(xm_plot), max(ym[:]), f\"coef: {round(reg.coef_[0],3)}\")\n",
    "  sns.despine()\n",
    "  \n",
    "  return model_dict\n",
    "\n",
    "linear_model_pair(df_jura, \"vlCadmium\", \"vlZinc\")"
   ]
  },
  {
   "cell_type": "code",
   "execution_count": 9,
   "id": "55bb733f",
   "metadata": {},
   "outputs": [
    {
     "data": {
      "text/plain": [
       "{'copy_X': True,\n",
       " 'fit_intercept': True,\n",
       " 'n_jobs': None,\n",
       " 'normalize': 'deprecated',\n",
       " 'positive': False,\n",
       " 'X': 'vlZinc',\n",
       " 'Y': 'vlNickel',\n",
       " 'coef': 0.1825203236441981}"
      ]
     },
     "execution_count": 9,
     "metadata": {},
     "output_type": "execute_result"
    },
    {
     "data": {
      "image/png": "[encoded data removed]",
      "text/plain": [
       "<Figure size 720x432 with 1 Axes>"
      ]
     },
     "metadata": {
      "needs_background": "light"
     },
     "output_type": "display_data"
    }
   ],
   "source": [
    "linear_model_pair(df_jura, \"vlZinc\", \"vlNickel\")"
   ]
  },
  {
   "cell_type": "code",
   "execution_count": 10,
   "id": "f429e015",
   "metadata": {},
   "outputs": [
    {
     "data": {
      "text/plain": [
       "['vlCadmium', 'vlCobalt', 'vlChromium', 'vlNickel', 'vlLead', 'vlZinc']"
      ]
     },
     "execution_count": 10,
     "metadata": {},
     "output_type": "execute_result"
    }
   ],
   "source": [
    "grade_features.remove('descUnit')\n",
    "grade_features"
   ]
  },
  {
   "cell_type": "code",
   "execution_count": 11,
   "id": "8f3603a0",
   "metadata": {},
   "outputs": [
    {
     "data": {
      "text/plain": [
       "{'model': LinearRegression(),\n",
       " 'element': 'vlNickel',\n",
       " 'score': 0.7379665282676895,\n",
       " 'pred': array([ 6.68413626,  7.16045423,  8.10315763,  8.35113888, 17.53168175,\n",
       "         9.62014989,  6.51113883,  6.59962391, 10.73211176,  5.56934829,\n",
       "         5.65545421,  6.65877691, 14.20365434, 19.81615526,  6.98652154,\n",
       "         6.97595242,  7.01041014,  9.29597322,  6.69644477,  5.95625363,\n",
       "         8.1708807 ,  7.6468843 , 12.06032749,  7.25054516, 15.24014418,\n",
       "         8.15990672, 16.91517565,  7.67402964,  9.361945  , 13.10845346,\n",
       "         8.54165114,  5.4933088 ,  9.27183828, 16.01637316, 15.93011308,\n",
       "        17.34681799, 13.37890977, 10.37983782, 12.38689242,  8.14569711,\n",
       "        22.26956457,  8.4619326 , 13.89180356, 17.56341374, 24.32281599,\n",
       "        17.91138602, 12.01851752, 15.29106661, 19.23786586, 11.24897607,\n",
       "        17.36500323, 13.92288978, 21.01292095, 12.16637871, 17.48280995,\n",
       "        11.75615758, 12.5192524 , 23.61603592,  8.38649946, 15.05051891,\n",
       "        21.91384081,  8.25728838, 21.32240657,  7.40104851, 20.40614735,\n",
       "         8.48772359, 15.2839904 , 21.85807042,  9.44516227, 22.15847482,\n",
       "        20.38713976, 22.37447364, 17.81185931, 17.5989514 , 20.11576571,\n",
       "        24.28644761,  9.24050533, 13.76424953, 23.46458977, 13.36926691,\n",
       "        23.9721727 , 24.74511786, 22.27421516, 17.29251505, 18.12620763,\n",
       "        24.00944287, 26.63717971, 10.94264616, 18.7207164 , 19.21028801,\n",
       "        23.80251458, 14.74482616, 25.43064488, 23.73923051, 16.98179802,\n",
       "        23.26717251, 17.51267109, 21.38706328, 20.59861946, 24.5861293 ,\n",
       "        13.06068696, 18.59789451, 25.35574578, 26.11241654, 21.15208856,\n",
       "        22.85139809, 23.82179783, 19.96918068, 21.62879938, 25.6142533 ,\n",
       "        20.13380972, 20.74204423, 25.58725685, 21.90562789, 25.47599778,\n",
       "        22.53359955, 19.28075851, 25.59961362, 18.94451127, 22.01293205,\n",
       "        21.36388545, 16.69764589, 21.49263526, 23.92858591, 29.62048449,\n",
       "        18.03909506, 24.22072727, 16.16041986, 25.34184511, 27.00874269,\n",
       "        22.65669844,  8.42425374, 14.10514771, 22.18068126, 23.05918981,\n",
       "        28.18846335, 18.63686446, 22.12803768, 28.00656903, 21.10289461,\n",
       "        19.67561036, 22.69283443, 24.11687651,  3.64272094, 23.63720415,\n",
       "        27.42887318, 22.27967125, 25.86535306,  4.73031058, 15.81627849,\n",
       "        22.51644458, 22.28713767,  4.30974058, 18.77122161, 23.20063382,\n",
       "        26.18447016, 27.11035986, 22.161452  , 21.62158191, 24.66079677,\n",
       "        26.69732721,  9.26330941, 29.52078974, 27.65842706, 30.30312446,\n",
       "        31.43466759, 12.62159539, 28.86373882, 20.68086439, 26.85381709,\n",
       "        24.35867237, 29.89538839, 23.75909247, 22.07413475, 22.55172481,\n",
       "        31.02573515, 26.42127355, 25.93817457,  9.744598  , 24.14503382,\n",
       "        29.64550806, 21.89843098, 24.29119768, 23.89470311, 19.57774051,\n",
       "        28.18590754, 28.58518046, 22.62759549, 21.6049575 , 26.09286167,\n",
       "        30.83840816, 25.85929773, 14.69708818, 23.50965748, 23.74953068,\n",
       "        10.55497811, 16.3663821 , 28.97409707, 23.20852911, 22.81690196,\n",
       "        28.01499168, 28.08242236, 29.50469172, 22.06848222, 10.20848777,\n",
       "        21.17821569, 29.9182618 , 18.23410377, 29.26718958, 29.36701969,\n",
       "        23.44154275, 20.98769965, 24.80551947, 25.48770788, 14.91663665,\n",
       "        25.56454706, 24.02657389, 23.29862125, 30.0353132 , 21.15462067,\n",
       "        21.9185529 , 26.14497794, 27.31171976, 24.66124767, 28.03282353,\n",
       "        16.45078187, 30.35301388, 25.54682787, 29.60150174, 18.92733375,\n",
       "        26.91619603, 17.0552057 , 25.35626566, 23.38338537, 24.89673735,\n",
       "        22.62411941, 27.64500765, 27.30680357, 28.99736651, 28.67803524,\n",
       "        35.0444907 , 30.16621189, 26.41626327, 24.75365832, 25.59120563,\n",
       "        25.26218225, 25.16039803, 27.39746508, 26.81910435, 24.90706146,\n",
       "        23.96545954]),\n",
       " 'params': {'copy_X': True,\n",
       "  'fit_intercept': True,\n",
       "  'n_jobs': None,\n",
       "  'normalize': 'deprecated',\n",
       "  'positive': False}}"
      ]
     },
     "execution_count": 11,
     "metadata": {},
     "output_type": "execute_result"
    }
   ],
   "source": [
    "def linear_model_multiple (df, grade_features, y_elem):\n",
    "  \n",
    "  # Regressor\n",
    "  reg = LinearRegression()\n",
    "  \n",
    "  grade_x = grade_features.copy()\n",
    "  grade_x.remove(y_elem)\n",
    "\n",
    "  xm = df[grade_x].values\n",
    "  ym = df[y_elem].values\n",
    "\n",
    "  reg.fit(X=xm, y=ym)\n",
    "  score = reg.score(X=xm, y=ym)\n",
    "  y_pred = reg.predict(xm)\n",
    "\n",
    "  model_dict = {\n",
    "    'model': reg,\n",
    "    'element':y_elem,\n",
    "    'score': score, \n",
    "    'pred': y_pred,\n",
    "    'params': reg.get_params()\n",
    "  }\n",
    "\n",
    "  return model_dict\n",
    "\n",
    "model = linear_model_multiple(df_jura, grade_features, 'vlNickel')\n",
    "model"
   ]
  }
 ],
 "metadata": {
  "kernelspec": {
   "display_name": "Python 3 (ipykernel)",
   "language": "python",
   "name": "python3"
  },
  "language_info": {
   "codemirror_mode": {
    "name": "ipython",
    "version": 3
   },
   "file_extension": ".py",
   "mimetype": "text/x-python",
   "name": "python",
   "nbconvert_exporter": "python",
   "pygments_lexer": "ipython3",
   "version": "3.10.4"
  }
 },
 "nbformat": 4,
 "nbformat_minor": 5
}
