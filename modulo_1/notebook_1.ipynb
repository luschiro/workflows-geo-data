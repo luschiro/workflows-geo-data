{
 "cells": [
  {
   "cell_type": "markdown",
   "id": "0385706b-fbfd-477d-a329-161f538bec5a",
   "metadata": {},
   "source": [
    "### This is our first notebook"
   ]
  },
  {
   "cell_type": "code",
   "execution_count": null,
   "id": "3ed3fc6c-3b2c-4ed7-b31d-bee8da332c0c",
   "metadata": {},
   "outputs": [],
   "source": [
    "## "
   ]
  },
  {
   "cell_type": "code",
   "execution_count": 4,
   "id": "d1f0486b-bcb6-487e-9838-60b61ffadcdc",
   "metadata": {},
   "outputs": [
    {
     "name": "stdout",
     "output_type": "stream",
     "text": [
      "teste\n"
     ]
    }
   ],
   "source": [
    "println(\"teste\")"
   ]
  },
  {
   "cell_type": "code",
   "execution_count": 1,
   "id": "a3ef4d16-3cc9-4823-a3d0-66a6594dfc61",
   "metadata": {},
   "outputs": [
    {
     "data": {
      "text/plain": [
       "3"
      ]
     },
     "execution_count": 1,
     "metadata": {},
     "output_type": "execute_result"
    }
   ],
   "source": [
    "a = 1\n",
    "b = 2\n",
    "a + b"
   ]
  },
  {
   "cell_type": "code",
   "execution_count": 8,
   "id": "45f98b7f-6312-45df-b38a-1ffb6dc82ca2",
   "metadata": {},
   "outputs": [
    {
     "ename": "LoadError",
     "evalue": "UndefVarError: text not defined",
     "output_type": "error",
     "traceback": [
      "UndefVarError: text not defined",
      "",
      "Stacktrace:",
      " [1] top-level scope",
      "   @ In[8]:2",
      " [2] eval",
      "   @ .\\boot.jl:360 [inlined]",
      " [3] include_string(mapexpr::typeof(REPL.softscope), mod::Module, code::String, filename::String)",
      "   @ Base .\\loading.jl:1116"
     ]
    }
   ],
   "source": [
    "begin\n",
    "    text::String\n",
    "    \n",
    "    text = \"teste\"\n",
    "end\n"
   ]
  }
 ],
 "metadata": {
  "kernelspec": {
   "display_name": "Julia 1.6.3",
   "language": "julia",
   "name": "julia-1.6"
  },
  "language_info": {
   "file_extension": ".jl",
   "mimetype": "application/julia",
   "name": "julia",
   "version": "1.6.3"
  }
 },
 "nbformat": 4,
 "nbformat_minor": 5
}
